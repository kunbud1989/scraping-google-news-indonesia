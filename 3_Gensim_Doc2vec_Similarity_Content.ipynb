{
 "cells": [
  {
   "cell_type": "markdown",
   "metadata": {},
   "source": [
    "# Gensim - Doc2vec untuk Similarity Content\n",
    "Similarity Content menggunakan vector merupakan cara sederhana untuk mendapatkan kesamaan dari sebuah artikel.\n",
    "Dalam kasus ini saya akan menggunakan hasil scraping data google news indonesia berjumlah 77 documents saja.\n",
    "\n",
    "Adapun module yang digunakan adalah menggunkan gensim"
   ]
  },
  {
   "cell_type": "markdown",
   "metadata": {},
   "source": [
    "## Requirement\n",
    "- Gensim 2.0"
   ]
  },
  {
   "cell_type": "markdown",
   "metadata": {},
   "source": [
    "## Kode Sederhana"
   ]
  },
  {
   "cell_type": "code",
   "execution_count": 1,
   "metadata": {
    "collapsed": true
   },
   "outputs": [],
   "source": [
    "import logging\n",
    "logging.basicConfig(format='%(asctime)s : %(levelname)s : %(message)s', level=logging.INFO)"
   ]
  },
  {
   "cell_type": "code",
   "execution_count": 2,
   "metadata": {},
   "outputs": [
    {
     "name": "stderr",
     "output_type": "stream",
     "text": [
      "2017-05-07 11:55:48,657 : INFO : 'pattern' package found; tag filters are available for English\n"
     ]
    }
   ],
   "source": [
    "from gensim.models.doc2vec import Doc2Vec, TaggedDocument\n",
    "import gensim\n",
    "from pprint import pprint\n",
    "import multiprocessing\n",
    "import os"
   ]
  },
  {
   "cell_type": "code",
   "execution_count": 3,
   "metadata": {},
   "outputs": [],
   "source": [
    "dirname = 'google_news'\n",
    "documents_file = os.listdir(dirname)\n",
    "\n",
    "documents = []\n",
    "\n",
    "for fname in documents_file:\n",
    "    f = open(os.path.join(dirname,fname),'rU')\n",
    "    content = f.read().decode('utf-8')\n",
    "    title = fname.replace('.txt','')\n",
    "    documents.append(TaggedDocument(gensim.utils.simple_preprocess(content, max_len=30), [title]))\n",
    "    "
   ]
  },
  {
   "cell_type": "code",
   "execution_count": 4,
   "metadata": {},
   "outputs": [
    {
     "name": "stdout",
     "output_type": "stream",
     "text": [
      "['5 Kesamaan Xiaomi Mi 6 dan iPhone 7 Plus']\n"
     ]
    }
   ],
   "source": [
    "pprint(documents[:1][0].tags)"
   ]
  },
  {
   "cell_type": "code",
   "execution_count": 5,
   "metadata": {},
   "outputs": [
    {
     "name": "stdout",
     "output_type": "stream",
     "text": [
      "[u'datang',\n",
      " u'dengan',\n",
      " u'dapur',\n",
      " u'pacu',\n",
      " u'super',\n",
      " u'tangguh',\n",
      " u'xiaomi',\n",
      " u'mi',\n",
      " u'berhasilmenyabet',\n",
      " u'gelar']\n"
     ]
    }
   ],
   "source": [
    "pprint(documents[:1][0].words[:10])"
   ]
  },
  {
   "cell_type": "code",
   "execution_count": 6,
   "metadata": {},
   "outputs": [],
   "source": [
    "cores = multiprocessing.cpu_count()\n",
    "model = Doc2Vec(dm=0, dbow_words=1, size=200, window=10, min_count=10, iter=1000, workers=cores, sample=1e-4, negative=5)"
   ]
  },
  {
   "cell_type": "code",
   "execution_count": 7,
   "metadata": {},
   "outputs": [
    {
     "name": "stderr",
     "output_type": "stream",
     "text": [
      "2017-05-07 11:55:57,457 : INFO : collecting all words and their counts\n",
      "2017-05-07 11:55:57,459 : INFO : PROGRESS: at example #0, processed 0 words (0/s), 0 word types, 0 tags\n",
      "2017-05-07 11:55:57,473 : INFO : collected 4513 word types and 74 unique tags from a corpus of 74 examples and 19417 words\n",
      "2017-05-07 11:55:57,475 : INFO : Loading a fresh vocabulary\n",
      "2017-05-07 11:55:57,483 : INFO : min_count=10 retains 349 unique words (7% of original 4513, drops 4164)\n",
      "2017-05-07 11:55:57,485 : INFO : min_count=10 leaves 10393 word corpus (53% of original 19417, drops 9024)\n",
      "2017-05-07 11:55:57,490 : INFO : deleting the raw counts dictionary of 4513 items\n",
      "2017-05-07 11:55:57,493 : INFO : sample=0.0001 downsamples 349 most-common words\n",
      "2017-05-07 11:55:57,494 : INFO : downsampling leaves estimated 2097 word corpus (20.2% of prior 10393)\n",
      "2017-05-07 11:55:57,496 : INFO : estimated required memory for 349 words and 200 dimensions: 806900 bytes\n",
      "2017-05-07 11:55:57,500 : INFO : resetting layer weights\n"
     ]
    },
    {
     "name": "stdout",
     "output_type": "stream",
     "text": [
      "Doc2Vec(dbow+w,d200,n5,w10,mc10,s0.0001,t4)\n"
     ]
    }
   ],
   "source": [
    "model.build_vocab(documents,update=False)\n",
    "print(str(model))"
   ]
  },
  {
   "cell_type": "code",
   "execution_count": 8,
   "metadata": {},
   "outputs": [
    {
     "name": "stderr",
     "output_type": "stream",
     "text": [
      "2017-05-07 11:55:58,995 : INFO : training model with 4 workers on 349 vocabulary and 200 features, using sg=1 hs=0 sample=0.0001 negative=5 window=10\n",
      "2017-05-07 11:56:00,004 : INFO : PROGRESS: at 4.01% examples, 86961 words/s, in_qsize 7, out_qsize 0\n",
      "2017-05-07 11:56:01,013 : INFO : PROGRESS: at 9.66% examples, 104470 words/s, in_qsize 7, out_qsize 0\n",
      "2017-05-07 11:56:02,023 : INFO : PROGRESS: at 16.56% examples, 119093 words/s, in_qsize 7, out_qsize 0\n",
      "2017-05-07 11:56:03,033 : INFO : PROGRESS: at 23.16% examples, 124773 words/s, in_qsize 7, out_qsize 0\n",
      "2017-05-07 11:56:04,041 : INFO : PROGRESS: at 29.26% examples, 126045 words/s, in_qsize 7, out_qsize 0\n",
      "2017-05-07 11:56:05,043 : INFO : PROGRESS: at 35.91% examples, 129072 words/s, in_qsize 8, out_qsize 0\n",
      "2017-05-07 11:56:06,048 : INFO : PROGRESS: at 42.56% examples, 131116 words/s, in_qsize 7, out_qsize 0\n",
      "2017-05-07 11:56:07,053 : INFO : PROGRESS: at 48.91% examples, 131876 words/s, in_qsize 7, out_qsize 0\n",
      "2017-05-07 11:56:08,058 : INFO : PROGRESS: at 55.51% examples, 133038 words/s, in_qsize 8, out_qsize 0\n",
      "2017-05-07 11:56:09,071 : INFO : PROGRESS: at 62.11% examples, 133899 words/s, in_qsize 7, out_qsize 0\n",
      "2017-05-07 11:56:10,076 : INFO : PROGRESS: at 68.21% examples, 133733 words/s, in_qsize 8, out_qsize 0\n",
      "2017-05-07 11:56:11,084 : INFO : PROGRESS: at 74.86% examples, 134519 words/s, in_qsize 7, out_qsize 1\n",
      "2017-05-07 11:56:12,086 : INFO : PROGRESS: at 81.56% examples, 135345 words/s, in_qsize 7, out_qsize 1\n",
      "2017-05-07 11:56:13,099 : INFO : PROGRESS: at 88.06% examples, 135595 words/s, in_qsize 8, out_qsize 0\n",
      "2017-05-07 11:56:14,121 : INFO : PROGRESS: at 93.01% examples, 133543 words/s, in_qsize 7, out_qsize 0\n",
      "2017-05-07 11:56:15,133 : INFO : PROGRESS: at 99.36% examples, 133711 words/s, in_qsize 8, out_qsize 0\n",
      "2017-05-07 11:56:15,220 : INFO : worker thread finished; awaiting finish of 3 more threads\n",
      "2017-05-07 11:56:15,226 : INFO : worker thread finished; awaiting finish of 2 more threads\n",
      "2017-05-07 11:56:15,236 : INFO : worker thread finished; awaiting finish of 1 more threads\n",
      "2017-05-07 11:56:15,243 : INFO : worker thread finished; awaiting finish of 0 more threads\n",
      "2017-05-07 11:56:15,244 : INFO : training on 19417000 raw words (2171063 effective words) took 16.2s, 133647 effective words/s\n"
     ]
    },
    {
     "name": "stdout",
     "output_type": "stream",
     "text": [
      "CPU times: user 46 s, sys: 2.14 s, total: 48.1 s\n",
      "Wall time: 16.3 s\n"
     ]
    },
    {
     "data": {
      "text/plain": [
       "2171063"
      ]
     },
     "execution_count": 8,
     "metadata": {},
     "output_type": "execute_result"
    }
   ],
   "source": [
    "%time model.train(documents, total_examples=model.corpus_count, epochs=model.iter)"
   ]
  },
  {
   "cell_type": "code",
   "execution_count": 9,
   "metadata": {},
   "outputs": [
    {
     "name": "stderr",
     "output_type": "stream",
     "text": [
      "2017-05-07 11:56:16,731 : INFO : precomputing L2-norms of doc weight vectors\n"
     ]
    },
    {
     "name": "stdout",
     "output_type": "stream",
     "text": [
      "Doc2Vec(dbow+w,d200,n5,w10,mc10,s0.0001,t4)\n",
      "[('Ini Alasan Xiaomi Mi 6 Tiru iPhone 7', 0.4435577392578125),\n",
      " ('Mengapa Xiaomi Mi 6 Harus Mengikuti Langkah iPhone 7? - Kompas.com',\n",
      "  0.3622362017631531),\n",
      " ('Harga Samsung Galaxy Express Prime 2 dan Spesifikasi, Smartphone LTE Android Nougat Sejutaan',\n",
      "  0.2899801731109619),\n",
      " ('Tiga Kota Besar Indonesia Akhirnya Resmi Menjual Sosok Smartphone Flagship Samsung Galaxy S8 dan Samsung Galaxy S8 Plus',\n",
      "  0.2826429009437561),\n",
      " ('Kebisingan \"Treble Winner\" di Balik Kegagalan Juventus - Kompas.com',\n",
      "  0.245576411485672),\n",
      " ('Ismail Haniya Terpilih Sebagai Pemimpin Hamas', 0.2441180795431137),\n",
      " ('Sekilas Berkenalan dengan Oppo F3', 0.23804400861263275),\n",
      " ('Ini Alasan Real Madrid Simpan Ronaldo Lawan Granada', 0.23543459177017212),\n",
      " ('Stephen Hawking Desak Manusia Pindah ke Planet Lain', 0.23176153004169464),\n",
      " ('Kecelakaan, Job Sheila Marcia Banyak Yang Dibatalkan | M.Kapanlagi.com',\n",
      "  0.22895048558712006)]\n"
     ]
    }
   ],
   "source": [
    "print(str(model))\n",
    "pprint(model.docvecs.most_similar(positive=[\"5 Kesamaan Xiaomi Mi 6 dan iPhone 7 Plus\"], topn=10))"
   ]
  },
  {
   "cell_type": "code",
   "execution_count": 10,
   "metadata": {},
   "outputs": [
    {
     "data": {
      "text/plain": [
       "[('Rekaman Menegangkan Saat Turbulensi di AirAsia Tujuan Kuala Lumpur, Ada Tangisan Hingga Teriakan - Pos Kupang',\n",
       "  0.16304472088813782),\n",
       " ('Dibully, Curhatan Putri Bungsu Marissa Haque Bikin Nangis - VIVA.co.id',\n",
       "  0.14578871428966522),\n",
       " ('Ponsel Berkamera adalah Kunci di Abad Selfie', 0.1449335366487503),\n",
       " ('Ini Penjelasan Bank Mandiri Soal Gangguan Online Banking',\n",
       "  0.13119998574256897),\n",
       " ('Diculik Semenjak 2014 oleh Boko Haram, 82 Perempuan Chibok Dibebaskan',\n",
       "  0.11745390295982361),\n",
       " ('Ini Kata Peserta \"Gadget Story\" Setelah Menjajal Galaxy S8 - Kompas.com',\n",
       "  0.11424076557159424),\n",
       " ('Penis Anda Tidak Ingin Patah? Hindari Posisi Seks Ini-',\n",
       "  0.10996179282665253),\n",
       " ('Stephen Hawking Desak Manusia Pindah ke Planet Lain', 0.10680105537176132),\n",
       " ('Massa Aksi Simpatik 55 Mulai Bubar Diri dari Masjid Istiqlal',\n",
       "  0.081327423453331),\n",
       " ('Seri Galaxy C Bakal Jadi Smartphone Kamera Ganda Samsung?',\n",
       "  0.07210025191307068)]"
      ]
     },
     "execution_count": 10,
     "metadata": {},
     "output_type": "execute_result"
    }
   ],
   "source": [
    "text_search = '''Zidane Real Madrid'''\n",
    "inferred_vector = model.infer_vector(text_search.lower().split())\n",
    "model.docvecs.most_similar([inferred_vector], topn=10)"
   ]
  },
  {
   "cell_type": "code",
   "execution_count": null,
   "metadata": {
    "collapsed": true
   },
   "outputs": [],
   "source": []
  }
 ],
 "metadata": {
  "kernelspec": {
   "display_name": "Python 2",
   "language": "python",
   "name": "python2"
  },
  "language_info": {
   "codemirror_mode": {
    "name": "ipython",
    "version": 2
   },
   "file_extension": ".py",
   "mimetype": "text/x-python",
   "name": "python",
   "nbconvert_exporter": "python",
   "pygments_lexer": "ipython2",
   "version": "2.7.11"
  }
 },
 "nbformat": 4,
 "nbformat_minor": 2
}
