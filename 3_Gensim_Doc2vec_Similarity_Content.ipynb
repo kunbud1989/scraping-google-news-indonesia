{
 "cells": [
  {
   "cell_type": "markdown",
   "metadata": {},
   "source": [
    "# Gensim - Doc2vec untuk Similarity Content\n",
    "Similarity Content menggunakan vector merupakan cara sederhana untuk mendapatkan kesamaan dari sebuah artikel.\n",
    "Dalam kasus ini saya akan menggunakan hasil scraping data google news indonesia berjumlah 77 documents saja.\n",
    "\n",
    "Adapun module yang digunakan adalah menggunkan gensim"
   ]
  },
  {
   "cell_type": "markdown",
   "metadata": {},
   "source": [
    "## Requirement\n",
    "- Gensim 2.0"
   ]
  },
  {
   "cell_type": "markdown",
   "metadata": {},
   "source": [
    "## Kode Sederhana"
   ]
  },
  {
   "cell_type": "code",
   "execution_count": 1,
   "metadata": {
    "collapsed": true
   },
   "outputs": [],
   "source": [
    "import logging\n",
    "logging.basicConfig(format='%(asctime)s : %(levelname)s : %(message)s', level=logging.INFO)"
   ]
  },
  {
   "cell_type": "code",
   "execution_count": 2,
   "metadata": {},
   "outputs": [
    {
     "name": "stderr",
     "output_type": "stream",
     "text": [
      "2017-05-07 12:39:28,206 : INFO : 'pattern' package found; tag filters are available for English\n"
     ]
    }
   ],
   "source": [
    "from gensim.models.doc2vec import Doc2Vec, TaggedDocument\n",
    "import gensim\n",
    "from pprint import pprint\n",
    "import multiprocessing\n",
    "import os"
   ]
  },
  {
   "cell_type": "code",
   "execution_count": 3,
   "metadata": {
    "collapsed": true
   },
   "outputs": [],
   "source": [
    "dirname = 'google_news'\n",
    "documents_file = os.listdir(dirname)\n",
    "\n",
    "documents = []\n",
    "\n",
    "for fname in documents_file:\n",
    "    f = open(os.path.join(dirname,fname),'rU')\n",
    "    content = f.read().decode('utf-8')\n",
    "    title = fname.replace('.txt','')\n",
    "    documents.append(TaggedDocument(gensim.utils.simple_preprocess(content, max_len=30), [title]))\n",
    "    "
   ]
  },
  {
   "cell_type": "code",
   "execution_count": 4,
   "metadata": {},
   "outputs": [
    {
     "name": "stdout",
     "output_type": "stream",
     "text": [
      "[\"'Saya Turun di Lapangan dan tak Melihat Ada Upaya Makar'\"]\n"
     ]
    }
   ],
   "source": [
    "pprint(documents[:1][0].tags)"
   ]
  },
  {
   "cell_type": "code",
   "execution_count": 5,
   "metadata": {},
   "outputs": [
    {
     "name": "stdout",
     "output_type": "stream",
     "text": [
      "[u'republika',\n",
      " u'co',\n",
      " u'id',\n",
      " u'jakarta',\n",
      " u'ketua',\n",
      " u'setara',\n",
      " u'institute',\n",
      " u'hendardi',\n",
      " u'yang',\n",
      " u'menyebut']\n"
     ]
    }
   ],
   "source": [
    "pprint(documents[:1][0].words[:10])"
   ]
  },
  {
   "cell_type": "code",
   "execution_count": 11,
   "metadata": {
    "collapsed": true
   },
   "outputs": [],
   "source": [
    "cores = multiprocessing.cpu_count()\n",
    "model = Doc2Vec(dm=0, dbow_words=1, size=200, window=10, min_count=10, iter=200, workers=cores, sample=1e-4, negative=5)"
   ]
  },
  {
   "cell_type": "code",
   "execution_count": 12,
   "metadata": {},
   "outputs": [
    {
     "name": "stderr",
     "output_type": "stream",
     "text": [
      "2017-05-07 12:40:26,087 : INFO : collecting all words and their counts\n",
      "2017-05-07 12:40:26,089 : INFO : PROGRESS: at example #0, processed 0 words (0/s), 0 word types, 0 tags\n",
      "2017-05-07 12:40:26,113 : INFO : collected 5744 word types and 119 unique tags from a corpus of 119 examples and 31481 words\n",
      "2017-05-07 12:40:26,114 : INFO : Loading a fresh vocabulary\n",
      "2017-05-07 12:40:26,125 : INFO : min_count=10 retains 598 unique words (10% of original 5744, drops 5146)\n",
      "2017-05-07 12:40:26,127 : INFO : min_count=10 leaves 19884 word corpus (63% of original 31481, drops 11597)\n",
      "2017-05-07 12:40:26,134 : INFO : deleting the raw counts dictionary of 5744 items\n",
      "2017-05-07 12:40:26,136 : INFO : sample=0.0001 downsamples 598 most-common words\n",
      "2017-05-07 12:40:26,138 : INFO : downsampling leaves estimated 5476 word corpus (27.5% of prior 19884)\n",
      "2017-05-07 12:40:26,140 : INFO : estimated required memory for 598 words and 200 dimensions: 1374800 bytes\n",
      "2017-05-07 12:40:26,145 : INFO : resetting layer weights\n"
     ]
    },
    {
     "name": "stdout",
     "output_type": "stream",
     "text": [
      "Doc2Vec(dbow+w,d200,n5,w10,mc10,s0.0001,t4)\n"
     ]
    }
   ],
   "source": [
    "model.build_vocab(documents,update=False)\n",
    "print(str(model))"
   ]
  },
  {
   "cell_type": "code",
   "execution_count": 13,
   "metadata": {},
   "outputs": [
    {
     "name": "stderr",
     "output_type": "stream",
     "text": [
      "2017-05-07 12:40:27,032 : INFO : training model with 4 workers on 598 vocabulary and 200 features, using sg=1 hs=0 sample=0.0001 negative=5 window=10\n",
      "2017-05-07 12:40:28,038 : INFO : PROGRESS: at 12.84% examples, 143221 words/s, in_qsize 8, out_qsize 0\n",
      "2017-05-07 12:40:29,048 : INFO : PROGRESS: at 25.02% examples, 139411 words/s, in_qsize 8, out_qsize 0\n",
      "2017-05-07 12:40:30,054 : INFO : PROGRESS: at 38.92% examples, 144447 words/s, in_qsize 7, out_qsize 0\n",
      "2017-05-07 12:40:31,061 : INFO : PROGRESS: at 52.20% examples, 145215 words/s, in_qsize 7, out_qsize 0\n",
      "2017-05-07 12:40:32,088 : INFO : PROGRESS: at 65.81% examples, 145842 words/s, in_qsize 7, out_qsize 0\n",
      "2017-05-07 12:40:33,095 : INFO : PROGRESS: at 78.45% examples, 144921 words/s, in_qsize 7, out_qsize 0\n",
      "2017-05-07 12:40:34,112 : INFO : PROGRESS: at 90.81% examples, 143672 words/s, in_qsize 8, out_qsize 1\n",
      "2017-05-07 12:40:34,801 : INFO : worker thread finished; awaiting finish of 3 more threads\n",
      "2017-05-07 12:40:34,811 : INFO : worker thread finished; awaiting finish of 2 more threads\n",
      "2017-05-07 12:40:34,818 : INFO : worker thread finished; awaiting finish of 1 more threads\n",
      "2017-05-07 12:40:34,830 : INFO : worker thread finished; awaiting finish of 0 more threads\n",
      "2017-05-07 12:40:34,832 : INFO : training on 6296200 raw words (1119709 effective words) took 7.8s, 143632 effective words/s\n"
     ]
    },
    {
     "name": "stdout",
     "output_type": "stream",
     "text": [
      "CPU times: user 23.8 s, sys: 532 ms, total: 24.4 s\n",
      "Wall time: 7.8 s\n"
     ]
    },
    {
     "data": {
      "text/plain": [
       "1119709"
      ]
     },
     "execution_count": 13,
     "metadata": {},
     "output_type": "execute_result"
    }
   ],
   "source": [
    "%time model.train(documents, total_examples=model.corpus_count, epochs=model.iter)"
   ]
  },
  {
   "cell_type": "code",
   "execution_count": 14,
   "metadata": {},
   "outputs": [
    {
     "name": "stderr",
     "output_type": "stream",
     "text": [
      "2017-05-07 12:40:36,307 : INFO : precomputing L2-norms of doc weight vectors\n"
     ]
    },
    {
     "name": "stdout",
     "output_type": "stream",
     "text": [
      "Doc2Vec(dbow+w,d200,n5,w10,mc10,s0.0001,t4)\n",
      "[('Ini Alasan Xiaomi Mi 6 Tiru iPhone 7', 0.6714545488357544),\n",
      " ('Mengapa Xiaomi Mi 6 Harus Mengikuti Langkah iPhone 7? - Kompas.com',\n",
      "  0.5950295925140381),\n",
      " ('iPad Masih Jadi Rajanya Tablet', 0.4455420970916748),\n",
      " ('Negara Mana yang Jual iPhone 7 Termahal dan Termurah?',\n",
      "  0.39016592502593994),\n",
      " ('Ayu Ting Ting Pasrah Hadapi Terpaan Gosip Nikah Siri', 0.38525086641311646),\n",
      " ('Wajah Baru Rio, Jadi Nafas Segar KIA Jualan di Indonesia',\n",
      "  0.35606831312179565),\n",
      " ('Gempar Hujan Salju di Jakarta, PT MRT Minta Maaf', 0.3287229537963867),\n",
      " ('Cuplikan Video Barcelona Hajar Villarreal', 0.32460686564445496),\n",
      " ('Nih 5 Penyebab Utama Anda Sakit Gigi', 0.32280516624450684),\n",
      " ('Marquez Tak Remehkan Rossi dan Vinales', 0.3135116994380951)]\n"
     ]
    }
   ],
   "source": [
    "print(str(model))\n",
    "pprint(model.docvecs.most_similar(positive=[\"5 Kesamaan Xiaomi Mi 6 dan iPhone 7 Plus\"], topn=10))"
   ]
  },
  {
   "cell_type": "code",
   "execution_count": 15,
   "metadata": {},
   "outputs": [
    {
     "data": {
      "text/plain": [
       "[('Zidane Puas dengan Skuat B Real Madrid', 0.5102989077568054),\n",
       " ('Kontra BFC, Hanafi Tak Ingin Hasil Lawan Persib Terulang Lagi',\n",
       "  0.4575687646865845),\n",
       " ('Cuplikan Video Barcelona Hajar Villarreal', 0.4462753236293793),\n",
       " ('5 Tips Agar Suami Lebih Menikmati Seks Oral', 0.44335606694221497),\n",
       " ('Pujian untuk Neymar, Liukannya Seperti Penari Balet', 0.4431913495063782),\n",
       " ('Morata Lebih Tajam daripada Benzema, Zidane!', 0.42689239978790283),\n",
       " ('Kondisi Julia Perez Masih Naik Turun', 0.4225735366344452),\n",
       " ('Eko Bernazar Jalan Kaki Madiun-Jakarta untuk Anies-Sandi, Prabowo: Luar Biasa Dia!',\n",
       "  0.4221903085708618),\n",
       " ('Kabar Salju di Jakarta Cuma Hoax, BMKG: Itu Busa Tumpah',\n",
       "  0.42209890484809875),\n",
       " ('Alvaro Morata Berharap Bisa Lebih Sering Bermain Di Real Madrid',\n",
       "  0.4204276502132416)]"
      ]
     },
     "execution_count": 15,
     "metadata": {},
     "output_type": "execute_result"
    }
   ],
   "source": [
    "text_search = '''Zidane Real Madrid'''\n",
    "inferred_vector = model.infer_vector(text_search.lower().split())\n",
    "model.docvecs.most_similar([inferred_vector], topn=10)"
   ]
  },
  {
   "cell_type": "code",
   "execution_count": null,
   "metadata": {
    "collapsed": true
   },
   "outputs": [],
   "source": []
  }
 ],
 "metadata": {
  "kernelspec": {
   "display_name": "Python 2",
   "language": "python",
   "name": "python2"
  },
  "language_info": {
   "codemirror_mode": {
    "name": "ipython",
    "version": 2
   },
   "file_extension": ".py",
   "mimetype": "text/x-python",
   "name": "python",
   "nbconvert_exporter": "python",
   "pygments_lexer": "ipython2",
   "version": "2.7.11"
  }
 },
 "nbformat": 4,
 "nbformat_minor": 2
}
