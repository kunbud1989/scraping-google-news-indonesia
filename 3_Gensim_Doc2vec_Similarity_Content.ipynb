{
 "cells": [
  {
   "cell_type": "markdown",
   "metadata": {},
   "source": [
    "# Gensim - Doc2vec untuk Similarity Content\n",
    "Similarity Content menggunakan vector merupakan cara sederhana untuk mendapatkan kesamaan dari sebuah artikel.\n",
    "Dalam kasus ini saya akan menggunakan hasil scraping data google news indonesia berjumlah 77 documents saja.\n",
    "\n",
    "Adapun module yang digunakan adalah menggunkan gensim"
   ]
  },
  {
   "cell_type": "markdown",
   "metadata": {},
   "source": [
    "## Requirement\n",
    "- Gensim 2.0"
   ]
  },
  {
   "cell_type": "markdown",
   "metadata": {},
   "source": [
    "## Kode Sederhana"
   ]
  },
  {
   "cell_type": "code",
   "execution_count": 1,
   "metadata": {
    "collapsed": true
   },
   "outputs": [],
   "source": [
    "# import logging\n",
    "# logging.basicConfig(format='%(asctime)s : %(levelname)s : %(message)s', level=logging.INFO)"
   ]
  },
  {
   "cell_type": "code",
   "execution_count": 17,
   "metadata": {},
   "outputs": [],
   "source": [
    "from gensim.models.doc2vec import Doc2Vec, TaggedDocument\n",
    "import gensim\n",
    "from pprint import pprint\n",
    "import multiprocessing\n",
    "import os\n",
    "import re"
   ]
  },
  {
   "cell_type": "code",
   "execution_count": 18,
   "metadata": {
    "scrolled": false
   },
   "outputs": [],
   "source": [
    "dirname = 'google_news'\n",
    "documents_file = os.listdir(dirname)\n",
    "\n",
    "documents = []\n",
    "\n",
    "for fname in documents_file:\n",
    "    f = open(os.path.join(dirname,fname),'rU')\n",
    "    content = f.read().decode('utf-8').lower()\n",
    "    words_split = re.findall(r\"[\\w']+|[.,!?;]\",content) # memotong kalimat berdasarkan punctuation\n",
    "    \n",
    "    filtered_tokens = []\n",
    "    for token in words_split:\n",
    "        if re.search('[a-zA-Z]', token): # filter hanya huruf saja\n",
    "            filtered_tokens.append(token)\n",
    "    \n",
    "    title = fname.replace('.txt','')\n",
    "    documents.append(TaggedDocument(filtered_tokens,[title]))\n",
    "    "
   ]
  },
  {
   "cell_type": "code",
   "execution_count": 19,
   "metadata": {},
   "outputs": [
    {
     "name": "stdout",
     "output_type": "stream",
     "text": [
      "[\"'Formasi Tiga Bek Arsenal Belum Sempurna'\"]\n"
     ]
    }
   ],
   "source": [
    "pprint(documents[:1][0].tags)"
   ]
  },
  {
   "cell_type": "code",
   "execution_count": 20,
   "metadata": {},
   "outputs": [
    {
     "name": "stdout",
     "output_type": "stream",
     "text": [
      "[u'arsene', u'wenger', u'menerapkan', u'formasi', u'tiga', u'bek', u'saat', u'memetik', u'kemenangan', u'atas', u'manchester', u'united', u'the', u'professor', u'sempat', u'bersikeras', u'untuk', u'tak', u'mengubah', u'skema', u'bermainnya', u'pasca', u'kekalahan', u'atas', u'crystal', u'palace', u'arsenal', u'mengubah', u'gaya', u'bermainnya', u'formasi', u'empat', u'bek', u'mulai', u'ditinggalkan', u'oleh', u'arsene', u'wenger', u'dalam', u'tiga', u'pertandingan', u'terakhir', u'wenger', u'yang', u'menerapkan', u'formasi', u'tiga', u'bek', u'membawa', u'arsenal', u'menang', u'dua', u'kali', u'dan', u'sekali', u'menelan', u'kekalahan', u'di', u'liga', u'inggris', u'kemenangan', u'terbaru', u'didapat', u'saat', u'melakoni', u'pertandingan', u'melawan', u'the', u'red', u'devils', u'skor', u'akhirnya', u'arsenal', u'menang', u'berkat', u'gol', u'yang', u'dibukukan', u'oleh', u'granit', u'xhaka', u'dan', u'danny', u'welbeck', u'wenger', u'menilai', u'bahwa', u'tim', u'besutannya', u'bisa', u'bertahan', u'lebih', u'stabil', u'kala', u'bermain', u'dengan', u'tiga', u'bek', u'hal', u'itu']\n"
     ]
    }
   ],
   "source": [
    "print(documents[:1][0].words[:100])"
   ]
  },
  {
   "cell_type": "code",
   "execution_count": 21,
   "metadata": {
    "collapsed": true
   },
   "outputs": [],
   "source": [
    "cores = multiprocessing.cpu_count()\n",
    "model = Doc2Vec(dm=0, dbow_words=1, size=100, window=8, min_count=20, iter=100, workers=cores, sample=1e-4, negative=2)"
   ]
  },
  {
   "cell_type": "code",
   "execution_count": 22,
   "metadata": {},
   "outputs": [
    {
     "name": "stdout",
     "output_type": "stream",
     "text": [
      "Doc2Vec(dbow+w,d100,n2,w8,mc20,s0.0001,t4)\n"
     ]
    }
   ],
   "source": [
    "model.scan_vocab(documents,update=False)\n",
    "print(str(model))"
   ]
  },
  {
   "cell_type": "code",
   "execution_count": 23,
   "metadata": {},
   "outputs": [
    {
     "name": "stdout",
     "output_type": "stream",
     "text": [
      "Doc2Vec(dbow+w,d100,n2,w8,mc20,s0.0001,t4)\n"
     ]
    }
   ],
   "source": [
    "model.build_vocab(documents,update=False)\n",
    "print(str(model))"
   ]
  },
  {
   "cell_type": "code",
   "execution_count": 24,
   "metadata": {},
   "outputs": [
    {
     "name": "stdout",
     "output_type": "stream",
     "text": [
      "CPU times: user 11.8 s, sys: 1.27 s, total: 13.1 s\n",
      "Wall time: 5.2 s\n"
     ]
    },
    {
     "data": {
      "text/plain": [
       "1314523"
      ]
     },
     "execution_count": 24,
     "metadata": {},
     "output_type": "execute_result"
    }
   ],
   "source": [
    "%time model.train(documents, total_examples=model.corpus_count, epochs=model.iter)"
   ]
  },
  {
   "cell_type": "code",
   "execution_count": 25,
   "metadata": {
    "scrolled": true
   },
   "outputs": [
    {
     "name": "stdout",
     "output_type": "stream",
     "text": [
      "Doc2Vec(dbow+w,d100,n2,w8,mc20,s0.0001,t4)\n",
      "[('Ini Alasan Xiaomi Mi 6 Tiru iPhone 7', 0.8043391704559326),\n",
      " ('Mengapa Xiaomi Mi 6 Harus Mengikuti Langkah iPhone 7? - Kompas.com',\n",
      "  0.7488471269607544),\n",
      " ('Resmi Masuk Negara Turki, iPhone 7 Tembus Harga Rp 16 Jutaan Dan Menjadi Rekor Harga Tertinggi Hingga Saat Ini',\n",
      "  0.5795214772224426),\n",
      " ('Qualcomm Sudah Daftarkan Snapdragon 845 di Website Resminya',\n",
      "  0.5662438869476318),\n",
      " ('Smartphone Baru ASUS X00ID Muncul di GFXBench dengan Dual-camera',\n",
      "  0.5153516530990601),\n",
      " ('Samsung Galaxy J7 (2017) Muncul Lagi di GFXBench dengan Spesifikasi Berbeda',\n",
      "  0.4440805912017822),\n",
      " ('Negara Mana yang Jual iPhone 7 Termahal dan Termurah?', 0.4436926543712616),\n",
      " ('Negara Ini Jual iPhone 7 dengan Harga Paling Mahal di Dunia',\n",
      "  0.440419465303421),\n",
      " ('10 Hubungan keluarga para seleb Bollywood ini jarang diketahui',\n",
      "  0.43464940786361694),\n",
      " ('ASUS Zenfone X015D Muncul di GFXBench Usung Chipset MediaTek dan RAM 3GB',\n",
      "  0.42377620935440063)]\n"
     ]
    }
   ],
   "source": [
    "print(str(model))\n",
    "pprint(model.docvecs.most_similar(positive=[\"5 Kesamaan Xiaomi Mi 6 dan iPhone 7 Plus\"], topn=10))"
   ]
  },
  {
   "cell_type": "code",
   "execution_count": 28,
   "metadata": {},
   "outputs": [
    {
     "data": {
      "text/plain": [
       "[('Sandiaga Uno Tanggapi Pernyataan Luhut Pandjaitan soal Reklamasi',\n",
       "  0.5000295639038086),\n",
       " ('Soal Reklamasi Teluk Jakarta, Bang Sandi Bakal Ngobrol Bareng dengan Luhut',\n",
       "  0.4931764304637909),\n",
       " ('Sandiaga Sambut Tantangan Menko Luhut Bicara soal Reklamasi - VIVA.co.id',\n",
       "  0.47335365414619446),\n",
       " ('Jawab Tantangan Luhut Soal Reklamasi, Sandi Akan Siapkan Tim',\n",
       "  0.4121737778186798),\n",
       " ('Rinni Wulandari dan Jevin Julian Pamer Buku Nikah', 0.241092711687088),\n",
       " ('Sosok Budidarmo Bagi Tito Karnavian', 0.20594513416290283),\n",
       " ('Sidang Korupsi e-KTP, Pengacara Hotma Sitompul Dipanggil Jadi Saksi',\n",
       "  0.20400218665599823),\n",
       " ('BMKG: Tidak Mungkin Salju Turun di Jakarta', 0.1884603500366211),\n",
       " ('Petani Dihalangi Paspampres di Depannya, Ini yang Dilakukan Jokowi',\n",
       "  0.1664963960647583),\n",
       " ('Polda Riau Bentuk Tim Usut Pemerasan di Rutan Pekanbaru',\n",
       "  0.16344894468784332)]"
      ]
     },
     "execution_count": 28,
     "metadata": {},
     "output_type": "execute_result"
    }
   ],
   "source": [
    "text_search = '''Soal Reklamasi Teluk Jakarta, Bang Sandi Bakal Ngobrol Bareng dengan Luhut'''\n",
    "inferred_vector = model.infer_vector(text_search.lower().split())\n",
    "model.docvecs.most_similar([inferred_vector], topn=10)"
   ]
  },
  {
   "cell_type": "code",
   "execution_count": 27,
   "metadata": {},
   "outputs": [
    {
     "data": {
      "text/plain": [
       "array([ 0.55978322,  0.56031793,  0.05888164,  0.42614335, -0.83653086,\n",
       "       -0.34832302,  0.35508612, -0.14448757,  0.26461178,  0.23192292,\n",
       "       -0.79622906,  0.74073577, -0.57028621, -0.37256494,  0.48538208,\n",
       "       -0.46242538,  0.28113458,  0.18262506, -0.08646963,  0.19478701,\n",
       "        0.08811761, -1.08414376,  0.16470033, -0.1053811 ,  0.73071486,\n",
       "       -0.62379593,  0.34942403, -0.60945785, -0.03622055,  0.11027819,\n",
       "        0.41261092, -0.26597378,  0.14532451,  0.59876686, -0.25098893,\n",
       "        0.9371357 , -0.2655668 , -0.49870977,  1.41683602,  0.0855694 ,\n",
       "       -0.61547297,  0.93351853,  0.40202183, -0.67395622,  0.41190007,\n",
       "        0.35688952,  0.31151399,  0.30218858,  0.03822093, -0.57568526,\n",
       "        0.27861571, -0.28015926,  0.16584191, -0.63383502, -0.7314384 ,\n",
       "        0.49057713, -0.39977276,  0.95082641,  0.78501958,  0.22631977,\n",
       "       -0.06571314, -0.25181508,  0.52627206, -0.19543737,  0.63155901,\n",
       "        0.00809581, -0.49587014, -0.50795776, -0.39754882,  0.31089354,\n",
       "       -0.53476405,  0.62052089,  0.23604582, -0.21966265,  0.69546705,\n",
       "       -0.44101971,  0.91941369,  0.57100773, -0.44113269, -0.64165235,\n",
       "       -0.48314551,  0.9460451 ,  0.01596736,  0.50759763,  0.2670835 ,\n",
       "       -0.74390429,  0.53904921, -0.29338878, -0.07559305,  1.04921377,\n",
       "       -0.33750933,  0.59787452, -0.54257888, -0.14881882,  0.01175101,\n",
       "        0.02661713, -0.41645208,  0.1026476 ,  0.28695852, -0.5057711 ], dtype=float32)"
      ]
     },
     "execution_count": 27,
     "metadata": {},
     "output_type": "execute_result"
    }
   ],
   "source": [
    "model.docvecs['5 Kesamaan Xiaomi Mi 6 dan iPhone 7 Plus']"
   ]
  },
  {
   "cell_type": "code",
   "execution_count": null,
   "metadata": {
    "collapsed": true
   },
   "outputs": [],
   "source": []
  }
 ],
 "metadata": {
  "kernelspec": {
   "display_name": "Python 2",
   "language": "python",
   "name": "python2"
  },
  "language_info": {
   "codemirror_mode": {
    "name": "ipython",
    "version": 2
   },
   "file_extension": ".py",
   "mimetype": "text/x-python",
   "name": "python",
   "nbconvert_exporter": "python",
   "pygments_lexer": "ipython2",
   "version": "2.7.11"
  }
 },
 "nbformat": 4,
 "nbformat_minor": 2
}
