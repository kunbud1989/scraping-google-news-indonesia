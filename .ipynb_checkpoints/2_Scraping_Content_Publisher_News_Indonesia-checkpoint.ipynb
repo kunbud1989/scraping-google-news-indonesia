{
 "cells": [
  {
   "cell_type": "markdown",
   "metadata": {},
   "source": [
    "# Scraping Content Publsiher News Indonesia\n",
    "Dalam tahapan ini, kita akan melakukan scraping isi dari sebuah berita.\n",
    "\n",
    "Silakan melakukan step pertama (**1_Scraping_Google_News_Indonesia.pynb**) untuk menghasilkan `list_links_google_news_indonesia.txt` yang selanjutnya akan menjadi acuhan kita mengambil content tersebut."
   ]
  },
  {
   "cell_type": "markdown",
   "metadata": {},
   "source": [
    "## Requirement\n",
    "- Goose"
   ]
  },
  {
   "cell_type": "markdown",
   "metadata": {},
   "source": [
    "### Installation\n",
    "**Goose**\n",
    "```sh\n",
    "$ git clone https://github.com/kunbud1989/python-goose.git\n",
    "$ cd python-goose\n",
    "$ pip install -r requirements.txt\n",
    "$ python setup.py install\n",
    "```"
   ]
  },
  {
   "cell_type": "markdown",
   "metadata": {},
   "source": [
    "## Kode Program"
   ]
  },
  {
   "cell_type": "code",
   "execution_count": 1,
   "metadata": {
    "collapsed": true
   },
   "outputs": [],
   "source": [
    "from goose import Goose\n",
    "from pprint import pprint\n",
    "import string\n",
    "import datetime\n",
    "\n",
    "class scrap_news(object):\n",
    "    def __init__(self, url):\n",
    "        self.url = url\n",
    "    def scrap_publisher_news(self):\n",
    "        g = Goose(\n",
    "                {\n",
    "                    'browser_user_agent': 'Opera/9.80 (Android; Opera Mini/8.0.1807/36.1609; U; en) Presto/2.12.423 Version/12.16',\n",
    "                    'use_meta_language': False, \n",
    "                    'target_language':'id',\n",
    "                    'enable_image_fetching': False,\n",
    "                    'http_timeout': 2,\n",
    "                }\n",
    "            )\n",
    "        article = g.extract(url=self.url)\n",
    "\n",
    "        content = article.cleaned_text\n",
    "        printable = set(string.printable)\n",
    "        content = filter(lambda x: x in printable, content)\n",
    "\n",
    "        title = article.title\n",
    "        title = filter(lambda x: x in printable, title)\n",
    "        if len(content) < 2 :\n",
    "            article = g.extract(article.amphtml)\n",
    "            content = article.cleaned_text\n",
    "            content = filter(lambda x: x in printable, content)\n",
    "        else:\n",
    "            article = article    \n",
    "\n",
    "        if len(content) > 0 :\n",
    "            title = title\n",
    "            content = content.replace('\\n','')\n",
    "            \n",
    "        return (title, content)"
   ]
  },
  {
   "cell_type": "markdown",
   "metadata": {},
   "source": [
    "## Result"
   ]
  },
  {
   "cell_type": "markdown",
   "metadata": {},
   "source": [
    "**Detik.com**"
   ]
  },
  {
   "cell_type": "code",
   "execution_count": 2,
   "metadata": {},
   "outputs": [
    {
     "name": "stdout",
     "output_type": "stream",
     "text": [
      "URL : https://news.detik.com/berita/3494173/polisi-jl-jend-sudirman-macet-karena-salju-palsu-dari-busa-air-got\n",
      "Title : Polisi: Jl Jend Sudirman Macet karena Salju Palsu dari Busa Air Got\n",
      "Content : Kabar adanya salju yang di Jalan Jenderal Sudirman Jakarta ternyata membuat macet lalu lintas di lokasi. Padahal itu bukan salju, melainkan air berbusa dari got di sekitar jalan.\"Itu saluran air berbuih yang luber ke jalan. Bikin macet, banyak yang penasaran,\" kata petugas Call Center Traffic Information Center (TMC) Polda Metro Jaya, Brigadir Geri, kepada detikcom, Sabtu (6/5/2017).Sebelumnya, BMKG memperkirakan busa-busa itu berasal dari tumpahan muatan truk. Ternyata kini dipastikan, busa-busa itu berasal dari air got. Busa itu dilaporkan belum sepenuhnya surut.\"Belum surut. Sekarang lalu lintas terpantau macet, padat merayap,\" kata Geri.Lalu lintas yang dimaksud adalah Jalan Jenderal Sudirman arah Semanggi. Adapun lalu lintas arah sebaliknya, yakni Jalan Jenderal Sudirman arah Monas, dilaporkan lancar.\"Arah ke Semanggi padat,\" kata Geri.\n"
     ]
    }
   ],
   "source": [
    "url = '''https://news.detik.com/berita/3494173/polisi-jl-jend-sudirman-macet-karena-salju-palsu-dari-busa-air-got'''\n",
    "sn = scrap_news(url)\n",
    "result = sn.scrap_publisher_news()\n",
    "\n",
    "print('URL : %s' % url)\n",
    "print('Title : %s' % result[0])\n",
    "print('Content : %s' % result[1])"
   ]
  },
  {
   "cell_type": "markdown",
   "metadata": {},
   "source": [
    "**Kompas.com**"
   ]
  },
  {
   "cell_type": "code",
   "execution_count": 3,
   "metadata": {},
   "outputs": [
    {
     "name": "stdout",
     "output_type": "stream",
     "text": [
      "URL : http://sains.kompas.com/read/2017/05/06/21374991/dikira.hujan.salju.ini.yang.sebenarnya.terjadi.di.jalan.sudirman\n",
      "Title : Dikira Hujan Salju, Ini yang Sebenarnya Terjadi di Jalan Sudirman - Kompas.com\n",
      "Content : Netizen dihebohkan dengan busa yang tampak seperti salju di kawasan Jenderal Sudirman, Jakarta, Sabtu (6/5/2017).JAKARTA, KOMPAS.com - Media sosial dihebohkan video yang menyebut ada semacam hujan salju di Jalan Sudirman, Jakarta, Sabtu (6/5/2017).Namun, dugaan tersebut dibantah oleh Badan Meteorologi, Klimatologi, dan Geofisika (BMKG) dan pelaksana proyek MRT Jakarta.Sumber MRT menyatakan, obyek berwarna putih yang mirip salju itu merupakan material sisa proyek MRT.\"Jadi itu material sisa tunneling (pengeboran) yang sedang dikeluarkan. Lalu keluar dari area proyek kami dan bercampur dengan air hujan,\" demikian keterangan MRT.Ia menyampaikan, material itu ramah lingkungan dan telah dibersihkan dari lokasi sekitar pukul 19.00 WIB.Hary Tirto Djatmiko dari BMKG mengatakan, Indonesia merupakan negara tropis sehingga tidak mungkin bersalju.\"Fenomena salju biasa terjadi di daerah subtropis dan kutub, jadi tidak benar berita yang beredar tersebut,\" katanya saat dihubungi Kompas.com, Sabtu.Data BMKG juga menunjukkan bahwa suhu Jakarta pada Sabtu berkisar antara 24-32 derajat Celsius. Pada suhu itu, salju tak mungkin turun.\n"
     ]
    }
   ],
   "source": [
    "url = '''http://sains.kompas.com/read/2017/05/06/21374991/dikira.hujan.salju.ini.yang.sebenarnya.terjadi.di.jalan.sudirman'''\n",
    "sn = scrap_news(url)\n",
    "result = sn.scrap_publisher_news()\n",
    "\n",
    "print('URL : %s' % url)\n",
    "print('Title : %s' % result[0])\n",
    "print('Content : %s' % result[1])"
   ]
  },
  {
   "cell_type": "markdown",
   "metadata": {},
   "source": [
    "**Metro TV News**"
   ]
  },
  {
   "cell_type": "code",
   "execution_count": 4,
   "metadata": {},
   "outputs": [
    {
     "name": "stdout",
     "output_type": "stream",
     "text": [
      "URL : http://celebrity.okezone.com/read/2017/05/06/33/1684964/el-rumi-rayakan-kelulusan-di-puncak-gunung-penanggungan\n",
      "Title : El Rumi Rayakan Kelulusan di Puncak Gunung Penanggungan\n",
      "Content : Kepala Stasiun Seorang Kucing Bernama TamaJAKARTA  Kelulusan sekolah adalah sesuatu yang sudah sewajarnya dirayakan. Begitu juga dengan El Rumi. Putra kedua Ahmad Dhani dan Maia Estianty itu memilih merayakan momen kelulusannya dari bangku SMA dengan naik gunung Penanggungan di Pasuruan, Jawa Timur.Untuk perayaan ini, El melakukan pendakian bersama teman-temannya dan sang kakak, Al Ghazali. Bagi El, ini adalah pengalaman naik gunungnya yang ketiga. Tiga kali naik gunung, El pun tak mengalami banyak kesulitan.Kita mau pakai naik Penanggungan. Kurang lebih perjalanannya sekitar tiga jam (ke pos), kata El seperti dikutip dari tayangan Go Spot, Sabtu (6/5/2017).Beda halnya dengan Al yang belum pernah naik gunung. Di pengalaman pendakian gunung pertamanya ini, Al sempat mengalami kram di kaki hingga kakinya harus dibebat agar tak mengalami cedera.Setelah melakukan perjalanan selama beberapa jam, melewati empat pos, dan beristirahat di pos bayangan, Al, El, beserta rombongan akhirnya berhasil menjejakkan kaki di puncak Penanggungan memiliki tinggi 1663 mdpl.Ini menjadi pertama kalinya Al dan El bisa merasakan naik gunung bersama. Ketagihan. kakak beradik ini berniat melakukan pendakian bersama lagi. Rencananya, Al dan El akan mengajak Dul untuk mendaki Mahameru, puncak Semeru usai lebaran nanti.\n"
     ]
    }
   ],
   "source": [
    "url = '''http://celebrity.okezone.com/read/2017/05/06/33/1684964/el-rumi-rayakan-kelulusan-di-puncak-gunung-penanggungan'''\n",
    "sn = scrap_news(url)\n",
    "result = sn.scrap_publisher_news()\n",
    "\n",
    "print('URL : %s' % url)\n",
    "print('Title : %s' % result[0])\n",
    "print('Content : %s' % result[1])"
   ]
  },
  {
   "cell_type": "code",
   "execution_count": 5,
   "metadata": {
    "collapsed": true
   },
   "outputs": [],
   "source": [
    "f = open('list_links_google_news_indonesia.txt','r')\n",
    "list_google_news = f.read().replace('[','').replace(']','').replace(\"u'\",\"\").replace(\"'\",\"\").split(',')"
   ]
  },
  {
   "cell_type": "code",
   "execution_count": 6,
   "metadata": {},
   "outputs": [
    {
     "name": "stdout",
     "output_type": "stream",
     "text": [
      "<type 'list'>\n"
     ]
    }
   ],
   "source": [
    "checkType = type(list_google_news)\n",
    "pprint(checkType)"
   ]
  },
  {
   "cell_type": "code",
   "execution_count": 7,
   "metadata": {},
   "outputs": [
    {
     "name": "stdout",
     "output_type": "stream",
     "text": [
      "120\n"
     ]
    }
   ],
   "source": [
    "total_link = len(list_google_news)\n",
    "pprint(total_link)"
   ]
  },
  {
   "cell_type": "code",
   "execution_count": 8,
   "metadata": {},
   "outputs": [
    {
     "name": "stdout",
     "output_type": "stream",
     "text": [
      "http://news.okezone.com/read/2017/05/06/337/1684967/fokus-refleksi-figur-widodo-budidarmo-setara-hoegeng-kapan-polri-punya-penerus-yang-begini-lagi\n",
      " http://sains.kompas.com/read/2017/05/06/21374991/dikira.hujan.salju.ini.yang.sebenarnya.terjadi.di.jalan.sudirman\n",
      " https://m.detik.com/sepakbola/liga-spanyol/3494267/tak-ada-masalah-dalam-negosiasi-messi-segera-teken-kontrak-bar\n",
      " http://gayahidup.republika.co.id/berita/gaya-hidup/trend/17/05/07/opk0cx328-banjir-diskon-kosmetik-di-jakarta-x-beauty-2017\n",
      " https://news.detik.com/berita/3494249/pemprov-dki-selidiki-keamanan-busa-proyek-mrt-yang-menghebohkan\n"
     ]
    }
   ],
   "source": [
    "for link in list_google_news[:5]:\n",
    "    print(link)"
   ]
  },
  {
   "cell_type": "code",
   "execution_count": 9,
   "metadata": {
    "collapsed": true
   },
   "outputs": [],
   "source": [
    "import os\n",
    "def generate_and_save_to_file(data):\n",
    "    if(len(data[1]) > 0):\n",
    "        fname = os.path.join('google_news',data[0]+'.txt')\n",
    "        f = open(fname,'w')\n",
    "        f.write(data[1])\n",
    "        f.close()\n",
    "    else:\n",
    "        fname = 'error'\n",
    "    return fname"
   ]
  },
  {
   "cell_type": "code",
   "execution_count": 10,
   "metadata": {},
   "outputs": [
    {
     "name": "stdout",
     "output_type": "stream",
     "text": [
      "1 / 120 : google_news/FOKUS: Refleksi Figur Widodo Budidarmo Setara Hoegeng, Kapan Polri Punya Penerus yang Begini Lagi?.txt\n",
      "2 / 120 : google_news/Dikira Hujan Salju, Ini yang Sebenarnya Terjadi di Jalan Sudirman - Kompas.com.txt\n",
      "3 / 120 : google_news/Tak Ada Masalah dalam Negosiasi, Messi Segera Teken Kontrak Baru.txt\n",
      "4 / 120 : google_news/Banjir Diskon Kosmetik di Jakarta X Beauty 2017.txt\n",
      "5 / 120 : google_news/Pemprov DKI Selidiki Keamanan Busa Proyek MRT yang Menghebohkan.txt\n",
      "6 / 120 : google_news/Paus Kritik AS, Minta \"Ibu Jangan Dijadikan Nama Bom - Kompas.com.txt\n",
      "7 / 120 : google_news/FOKUS: Alhamdulillah! Gerakan Penutup Aksi Simpatik 55 Hasilkan Jaminan MA atas Kasus Ahok.txt\n",
      "8 / 120 : google_news/9 Tahun Bercerai, Ahmad Dhani-Maia Estianty Kembali Foto Bersama.txt\n",
      "9 / 120 : google_news/Sosok Budidarmo Bagi Tito Karnavian.txt\n",
      "10 / 120 : google_news/Ditukar Tahanan, Boko Haram Lepas 82 Siswi Korban Penculikan - Kompas.com.txt\n",
      "11 / 120 : google_news/Ismail Haniya Terpilih Sebagai Pemimpin Hamas.txt\n",
      "12 / 120 : google_news/Pemilik Pertama Yamaha X-Max di Indonesia.txt\n",
      "13 / 120 : google_news/Barcelona Diklaim Tidak Tertarik Pada Coutinho.txt\n",
      "14 / 120 : google_news/Dari Mana Asal Busa yang Dikira Salju di Jalan Sudirman? - Kompas.com.txt\n",
      "15 / 120 : google_news/Penjelasan MRT Jakarta Soal Buih Mirip Salju di Jalan Sudirman.txt\n",
      "16 / 120 : google_news/AHY: Pariwisata Lombok, Luar Biasa.txt\n",
      "17 / 120 : google_news/The Power of Yuliati: Menggendong Anak Antar Jemput Sekolah.txt\n",
      "18 / 120 : google_news/Alvaro Morata Berharap Bisa Lebih Sering Bermain Di Real Madrid.txt\n",
      "19 / 120 : google_news/Penis Anda Tidak Ingin Patah? Hindari Posisi Seks Ini-.txt\n",
      "20 / 120 : google_news/Boko Haram Lepaskan 82 Gadis Chibok yang Disandera Sejak 2014.txt\n",
      "21 / 120 : google_news/Dua Napi yang Kabur dari Rutan Pekanbaru Ditangkap Saat Naik Taksi - Kompas.com.txt\n",
      "22 / 120 : google_news/Semangat Siswa Lumpuh untuk Tetap Pergi Sekolah, Walau Digendong Ibu.txt\n",
      "23 / 120 : google_news/Jakarta Sulit Punya Rumah Murah, Harga Tanahnya Mahal.txt\n",
      "24 / 120 : google_news/Stephen Hawking: Dalam 100 Tahun, Manusia Harus Lari dari Bumi.txt\n",
      "25 / 120 : google_news/Ismail Haniya dipilih sebagai pemimpin baru Hamas.txt\n",
      "26 / 120 : google_news/Yamaha XMAX Resmi Rp 55 Juta, 11 Pembeli Terima Motor di IIMS.txt\n",
      "27 / 120 : google_news/BMKG: Tidak Mungkin Salju Turun di Jakarta.txt\n",
      "28 / 120 : google_news/Ismail Haniya Terpilih Jadi Pemimpin Biro Politik Hamas.txt\n",
      "29 / 120 : google_news/Polisi: Jl Jend Sudirman Macet karena Salju Palsu dari Busa Air Got.txt\n",
      "30 / 120 : google_news/Biaya Perawatan Julia Perez di RSCM Hampir Rp 1 Miliar.txt\n",
      "31 / 120 : google_news/Ratusan Tahanan yang Kabur Dipindahkan ke Sejumlah Lapas Riau.txt\n",
      "32 / 120 : google_news/Cuplikan Video Barcelona Hajar Villarreal.txt\n",
      "33 / 120 : google_news/Foto Bareng Maia Estianty, Dhani Disebut Tambah Ganteng - VIVA.co.id.txt\n",
      "34 / 120 : google_news/Sebabkan Kematian, Paus Marah dengan Nama 'Ibu dari Semua Bom'.txt\n",
      "35 / 120 : google_news/Demokrat Buka Rakernas dengan Penandatanganan Petisi Antihoaks - Kompas.com.txt\n",
      "36 / 120 : google_news/Aksi 55 Selesai, Massa Mulai Tinggalkan Masjid Istiqlal.txt\n",
      "37 / 120 : google_news/Waspada Prediabetes, Cegah Menjadi Diabetes Tipe 2!.txt\n",
      "38 / 120 : google_news/Massa Aksi Simpatik 55 Membubarkan Diri.txt\n",
      "39 / 120 : google_news/Kontra BFC, Hanafi Tak Ingin Hasil Lawan Persib Terulang Lagi.txt\n",
      "40 / 120 : google_news/Jangan Sampai Terulang Lagi! Ekspresi Khusus Ini Jadi Tanda Komodo Akan Gigit Manusia - TribunTravel.com.txt\n",
      "41 / 120 : google_news/Ini Saran Jokowi agar Rakyat Bisa Beli Rumah.txt\n",
      "42 / 120 : google_news/Petani Dihalangi Paspampres di Depannya, Ini yang Dilakukan Jokowi.txt\n",
      "43 / 120 : google_news/Kondisi Julia Perez Masih Naik Turun.txt\n",
      "44 / 120 : google_news/Pejalan Kaki Madiun Tiba di Jakarta, Sampaikan Pesan Warga.txt\n",
      "45 / 120 : google_news/Heboh Turun Salju di Jakarta Ternyata Cuma Cairan Sabun - Tribun Jabar.txt\n",
      "46 / 120 : google_news/Duuh... Fotografer Asal Singapura Digigit Komodo, SOP Pengawalan Wisatawan Dipertanyakan.txt\n",
      "47 / 120 : google_news/Pamela Safitri Bicara Baju Melorot, Maklumat untuk Ayu Ting Ting.txt\n",
      "48 / 120 : google_news/Setelah Ajak ke KUA, Ini Bukti Baru Hubungan Raffi Ahmad dan Ayu Ting Ting - Sriwijaya Post.txt\n",
      "49 / 120 : google_news/Berjalan dari Madiun Dukung Anies, Eko Disambut Prabowo di Jakarta.txt\n",
      "50 / 120 : google_news/Soal Reklamasi Teluk Jakarta, Bang Sandi Bakal Ngobrol Bareng dengan Luhut.txt\n",
      "51 / 120 : google_news/Maia Estianty dan Ahmad Dhani Kompak Hadiri Wisuda El.txt\n",
      "52 / 120 : google_news/Teman Sheila Marcia Alami Kondisi Paling Parah.txt\n",
      "53 / 120 : google_news/Mendebarkan! 5 Penumpang Terluka, Begini Suasana AirAsia Saat Turbulensi Berat, Bikin Menjerit - TribunTravel.com.txt\n",
      "54 / 120 : google_news/Video NASA Ungkap Hasil Penelitian Cassini di Cincin Saturnus.txt\n",
      "55 / 120 : google_news/5 Kesamaan Xiaomi Mi 6 dan iPhone 7 Plus.txt\n",
      "56 / 120 : google_news/Petugas PT MRT Bersihkan Buih Mirip Salju di Jalan Sudirman.txt\n",
      "57 / 120 : google_news/6 Jenis Obat yang Bisa Menyebabkan Kerusakan Gigi - Uzone.txt\n",
      "58 / 120 : google_news/Seorang Ibu Gendong Anaknya yang Lumpuh ke Sekolah Setiap Hari - Kompas.com.txt\n",
      "59 / 120 : google_news/Arsenal Tampil Beda Saat Latihan dan Tanding Resmi, Cech Kecewa.txt\n",
      "60 / 120 : google_news/Kondisi Sheila Marcia Setelah Alami Kecelakaan.txt\n",
      "61 / 120 : google_news/Eko Bernazar Jalan Kaki Madiun-Jakarta untuk Anies-Sandi, Prabowo: Luar Biasa Dia!.txt\n",
      "62 / 120 : error\n",
      "63 / 120 : google_news/Hasil yang Menyakitkan untuk Torino.txt\n",
      "64 / 120 : google_news/Sandiaga Sambut Tantangan Menko Luhut Bicara soal Reklamasi - VIVA.co.id.txt\n",
      "65 / 120 : google_news/Ini Alasan Xiaomi Mi 6 Tiru iPhone 7.txt\n",
      "66 / 120 : google_news/Tantang Rekan Setimnya, Pedrosa: Marc Marquez, Ayo Kita Bertarung!.txt\n",
      "67 / 120 : google_news/ICW Anggap Dasar DPR Gunakan Hak Angket KPK Lemah.txt\n",
      "68 / 120 : google_news/Polisi Kantongi Identitas Dalang Kaburnya Tahanan Rutan Pekanbaru.txt\n",
      "69 / 120 : google_news/Nyaris Tekuk Juventus, Pelatih Torino Kecewa Berat.txt\n",
      "70 / 120 : google_news/Mengapa Xiaomi Mi 6 Harus Mengikuti Langkah iPhone 7? - Kompas.com.txt\n",
      "71 / 120 : google_news/Rekam Jejak Jenderal Widodo Semasa Hidupnya.txt\n",
      "72 / 120 : google_news/Zidane Puas dengan Skuat B Real Madrid.txt\n",
      "73 / 120 : google_news/Temukan Fosil Dinosaurus Afrika, Peneliti Seperti Menang Undian.txt\n",
      "74 / 120 : google_news/Stephen Hawking Desak Manusia Pindah ke Planet Lain.txt\n",
      "75 / 120 : google_news/Pujian untuk Neymar, Liukannya Seperti Penari Balet.txt\n",
      "76 / 120 : google_news/Layanan Online Eror, Dana Nasabah Bank Solo Dikuras.txt\n",
      "77 / 120 : google_news/Penting Deteksi Dini dan Pencegahan Prediabetes.txt\n",
      "78 / 120 : google_news/Heboh Video Salju di Jakarta: Ini Penjelasan dari BNPB.txt\n",
      "79 / 120 : google_news/Rumah Untuk MBR Telah Diresmikan Oleh Presiden Jokowi.txt\n",
      "80 / 120 : google_news/MOTHER OF ALL BOMBS: Gunakan Ibu Sebagai Pembunuh, Paus Fransiskus Kecam Militer AS.txt\n",
      "81 / 120 : google_news/Sempat Bikin Heboh, Busa Mirip Salju di Jalan Sudirman Tak Tampak Lagi - Kompas.com.txt\n",
      "82 / 120 : google_news/Motorola Akan Meluncurkan Tablet Android?.txt\n",
      "83 / 120 : google_news/Yamaha XMax Akhirnya Sampai ke Tangan Konsumen.txt\n",
      "84 / 120 : google_news/DPD Demokrat Bali Usung AHY Capres 2019.txt\n",
      "85 / 120 : google_news/Wajah Baru Rio, Jadi Nafas Segar KIA Jualan di Indonesia.txt\n",
      "86 / 120 : google_news/Alami Penyumbatan di Bagian Otak, Teman Sheila Marcia Dibius Selama Tiga Hari.txt\n",
      "87 / 120 : google_news/Prediabetes Perlu Dideteksi Lebih Dini.txt\n",
      "88 / 120 : google_news/Mantap, El Sukses Satukan Maia dan Ahmad Dhani.txt\n",
      "89 / 120 : google_news/Ini Penjelasan Bank Mandiri Soal Gangguan Online Banking.txt\n",
      "90 / 120 : google_news/Anak Tewas 23 Tahun Silam, Jantungnya Stop Berdetak Tahun Ini - Kompas.com.txt\n",
      "91 / 120 : google_news/Ayu Ting Ting Pasrah Hadapi Terpaan Gosip Nikah Siri.txt\n",
      "92 / 120 : google_news/Gempar Hujan Salju di Jakarta, PT MRT Minta Maaf.txt\n",
      "93 / 120 : google_news/Massimiliano Allegri: Laga Juventus Kontra Torino Salah Satu Yang Terbaik Musim Ini.txt\n",
      "94 / 120 : google_news/Memastikan Bukan Salju di Jalan Jendral Sudirman, Ini Penjelasan PT MRT Jakarta - Wartakota.txt\n",
      "95 / 120 : google_news/Morata Lebih Tajam daripada Benzema, Zidane!.txt\n"
     ]
    },
    {
     "name": "stdout",
     "output_type": "stream",
     "text": [
      "96 / 120 : error\n",
      "97 / 120 : google_news/Terungkap Biaya Pengobatan Jupe Selama di Rumah Sakit.txt\n",
      "98 / 120 : google_news/Cech Pahami Kekecewaan Para Fans Arsenal.txt\n",
      "99 / 120 : google_news/Hawking: 100 Tahun Lagi Bumi akan Kiamat.txt\n",
      "100 / 120 : google_news/Nih 5 Penyebab Utama Anda Sakit Gigi.txt\n",
      "101 / 120 : google_news/Marquez Tak Remehkan Rossi dan Vinales.txt\n",
      "102 / 120 : google_news/Rumah Murah DP 1 Persen Dilengkapi Taman Bermain dan Rumah Ibadah - Kompas.com.txt\n",
      "103 / 120 : google_news/'Saya Turun di Lapangan dan tak Melihat Ada Upaya Makar'.txt\n",
      "104 / 120 : google_news/Kemunculan 'Salju' di Jakarta Bikin Netizen Heboh.txt\n",
      "105 / 120 : google_news/5 Tips Agar Suami Lebih Menikmati Seks Oral.txt\n",
      "106 / 120 : google_news/MoVida Bali Hadirkan Cita Rasa Asli Spanyol Dalam Pop-Up di Jakarta.txt\n",
      "107 / 120 : google_news/Negara Mana yang Jual iPhone 7 Termahal dan Termurah?.txt\n",
      "108 / 120 : google_news/Layanan Online Banking Terganggu, Begini Langkah Bank Mandiri.txt\n",
      "109 / 120 : google_news/Kabar Salju di Jakarta Cuma Hoax, BMKG: Itu Busa Tumpah.txt\n",
      "110 / 120 : google_news/Rossi: Kami Belum 100 Persen - Kompas.com.txt\n",
      "111 / 120 : google_news/Putih-putih Berceceran di Jalanan Jakarta, Apa Ini Salju?.txt\n",
      "112 / 120 : google_news/Ada Dugaan Salju Turun di Jakarta, BMKG Lakukan Analisis.txt\n",
      "113 / 120 : google_news/Leganya De Bruyne Bisa Akhiri Puasa Golnya.txt\n",
      "114 / 120 : google_news/Pasar Tablet Menipis, iPad Tetap Terlaris - Kompas.com.txt\n",
      "115 / 120 : google_news/Masinton Tuding Novel Beri Keterangan Palsu di Sidang Kasus e-KTP.txt\n",
      "116 / 120 : google_news/Begini cerita busa sabun yang dikira hujan salju di Jalan Sudirman.txt\n",
      "117 / 120 : google_news/Busa Mirip Salju di Jakarta Berawal dari Kecerobohan Karyawan MRT.txt\n",
      "118 / 120 : google_news/Benda Mirip Salju di Jalan Jenderal Sudirman Sabun untuk Melunakkan Tanah.txt\n",
      "119 / 120 : google_news/Ditukar Napi Boko Haram, 82 Gadis Korban Penculikan Chibok Dibebaskan.txt\n",
      "120 / 120 : google_news/iPad Masih Jadi Rajanya Tablet.txt\n"
     ]
    }
   ],
   "source": [
    "index_link = 1\n",
    "for link in list_google_news:\n",
    "    try:\n",
    "        url = '''%s''' % link\n",
    "        sn = scrap_news(url)\n",
    "        result = sn.scrap_publisher_news()\n",
    "        fname = generate_and_save_to_file(result)\n",
    "        print('%d / %d : %s' % (index_link,total_link,fname))\n",
    "    except:\n",
    "        print('%d / %d : %s' % (index_link,total_link,'ERROR'))\n",
    "        pass\n",
    "    index_link = index_link + 1"
   ]
  },
  {
   "cell_type": "code",
   "execution_count": 11,
   "metadata": {},
   "outputs": [
    {
     "data": {
      "text/plain": [
       "[\"'Saya Turun di Lapangan dan tak Melihat Ada Upaya Makar'.txt\",\n",
       " '.gitignore',\n",
       " '5 Kesamaan Xiaomi Mi 6 dan iPhone 7 Plus.txt',\n",
       " '5 Tips Agar Suami Lebih Menikmati Seks Oral.txt',\n",
       " '6 Jenis Obat yang Bisa Menyebabkan Kerusakan Gigi - Uzone.txt',\n",
       " '9 Tahun Bercerai, Ahmad Dhani-Maia Estianty Kembali Foto Bersama.txt',\n",
       " 'Ada Dugaan Salju Turun di Jakarta, BMKG Lakukan Analisis.txt',\n",
       " 'AHY: Pariwisata Lombok, Luar Biasa.txt',\n",
       " 'Aksi 55 Selesai, Massa Mulai Tinggalkan Masjid Istiqlal.txt',\n",
       " 'Alami Penyumbatan di Bagian Otak, Teman Sheila Marcia Dibius Selama Tiga Hari.txt',\n",
       " 'Alvaro Morata Berharap Bisa Lebih Sering Bermain Di Real Madrid.txt',\n",
       " 'Anak Tewas 23 Tahun Silam, Jantungnya Stop Berdetak Tahun Ini - Kompas.com.txt',\n",
       " 'Arsenal Tampil Beda Saat Latihan dan Tanding Resmi, Cech Kecewa.txt',\n",
       " 'Ayu Ting Ting Pasrah Hadapi Terpaan Gosip Nikah Siri.txt',\n",
       " 'Banjir Diskon Kosmetik di Jakarta X Beauty 2017.txt',\n",
       " 'Barcelona Diklaim Tidak Tertarik Pada Coutinho.txt',\n",
       " 'Begini cerita busa sabun yang dikira hujan salju di Jalan Sudirman.txt',\n",
       " 'Benda Mirip Salju di Jalan Jenderal Sudirman Sabun untuk Melunakkan Tanah.txt',\n",
       " 'Berjalan dari Madiun Dukung Anies, Eko Disambut Prabowo di Jakarta.txt',\n",
       " 'Biaya Perawatan Julia Perez di RSCM Hampir Rp 1 Miliar.txt',\n",
       " 'BMKG: Tidak Mungkin Salju Turun di Jakarta.txt',\n",
       " 'Boko Haram Lepaskan 82 Gadis Chibok yang Disandera Sejak 2014.txt',\n",
       " 'Busa Mirip Salju di Jakarta Berawal dari Kecerobohan Karyawan MRT.txt',\n",
       " 'Cech Pahami Kekecewaan Para Fans Arsenal.txt',\n",
       " 'Cuplikan Video Barcelona Hajar Villarreal.txt',\n",
       " 'Dari Mana Asal Busa yang Dikira Salju di Jalan Sudirman? - Kompas.com.txt',\n",
       " 'Demokrat Buka Rakernas dengan Penandatanganan Petisi Antihoaks - Kompas.com.txt',\n",
       " 'Dikira Hujan Salju, Ini yang Sebenarnya Terjadi di Jalan Sudirman - Kompas.com.txt',\n",
       " 'Ditukar Napi Boko Haram, 82 Gadis Korban Penculikan Chibok Dibebaskan.txt',\n",
       " 'Ditukar Tahanan, Boko Haram Lepas 82 Siswi Korban Penculikan - Kompas.com.txt',\n",
       " 'DPD Demokrat Bali Usung AHY Capres 2019.txt',\n",
       " 'Dua Napi yang Kabur dari Rutan Pekanbaru Ditangkap Saat Naik Taksi - Kompas.com.txt',\n",
       " 'Duuh... Fotografer Asal Singapura Digigit Komodo, SOP Pengawalan Wisatawan Dipertanyakan.txt',\n",
       " 'Eko Bernazar Jalan Kaki Madiun-Jakarta untuk Anies-Sandi, Prabowo: Luar Biasa Dia!.txt',\n",
       " 'FOKUS: Alhamdulillah! Gerakan Penutup Aksi Simpatik 55 Hasilkan Jaminan MA atas Kasus Ahok.txt',\n",
       " 'FOKUS: Refleksi Figur Widodo Budidarmo Setara Hoegeng, Kapan Polri Punya Penerus yang Begini Lagi?.txt',\n",
       " 'Foto Bareng Maia Estianty, Dhani Disebut Tambah Ganteng - VIVA.co.id.txt',\n",
       " 'Gempar Hujan Salju di Jakarta, PT MRT Minta Maaf.txt',\n",
       " 'Hasil yang Menyakitkan untuk Torino.txt',\n",
       " 'Hawking: 100 Tahun Lagi Bumi akan Kiamat.txt',\n",
       " 'Heboh Turun Salju di Jakarta Ternyata Cuma Cairan Sabun - Tribun Jabar.txt',\n",
       " 'Heboh Video Salju di Jakarta: Ini Penjelasan dari BNPB.txt',\n",
       " 'ICW Anggap Dasar DPR Gunakan Hak Angket KPK Lemah.txt',\n",
       " 'Ini Alasan Xiaomi Mi 6 Tiru iPhone 7.txt',\n",
       " 'Ini Penjelasan Bank Mandiri Soal Gangguan Online Banking.txt',\n",
       " 'Ini Saran Jokowi agar Rakyat Bisa Beli Rumah.txt',\n",
       " 'iPad Masih Jadi Rajanya Tablet.txt',\n",
       " 'Ismail Haniya dipilih sebagai pemimpin baru Hamas.txt',\n",
       " 'Ismail Haniya Terpilih Jadi Pemimpin Biro Politik Hamas.txt',\n",
       " 'Ismail Haniya Terpilih Sebagai Pemimpin Hamas.txt',\n",
       " 'Jakarta Sulit Punya Rumah Murah, Harga Tanahnya Mahal.txt',\n",
       " 'Jangan Sampai Terulang Lagi! Ekspresi Khusus Ini Jadi Tanda Komodo Akan Gigit Manusia - TribunTravel.com.txt',\n",
       " 'Kabar Salju di Jakarta Cuma Hoax, BMKG: Itu Busa Tumpah.txt',\n",
       " \"Kemunculan 'Salju' di Jakarta Bikin Netizen Heboh.txt\",\n",
       " 'Kondisi Julia Perez Masih Naik Turun.txt',\n",
       " 'Kondisi Sheila Marcia Setelah Alami Kecelakaan.txt',\n",
       " 'Kontra BFC, Hanafi Tak Ingin Hasil Lawan Persib Terulang Lagi.txt',\n",
       " 'Layanan Online Banking Terganggu, Begini Langkah Bank Mandiri.txt',\n",
       " 'Layanan Online Eror, Dana Nasabah Bank Solo Dikuras.txt',\n",
       " 'Leganya De Bruyne Bisa Akhiri Puasa Golnya.txt',\n",
       " 'Maia Estianty dan Ahmad Dhani Kompak Hadiri Wisuda El.txt',\n",
       " 'Mantap, El Sukses Satukan Maia dan Ahmad Dhani.txt',\n",
       " 'Marquez Tak Remehkan Rossi dan Vinales.txt',\n",
       " 'Masinton Tuding Novel Beri Keterangan Palsu di Sidang Kasus e-KTP.txt',\n",
       " 'Massa Aksi Simpatik 55 Membubarkan Diri.txt',\n",
       " 'Massimiliano Allegri: Laga Juventus Kontra Torino Salah Satu Yang Terbaik Musim Ini.txt',\n",
       " 'Memastikan Bukan Salju di Jalan Jendral Sudirman, Ini Penjelasan PT MRT Jakarta - Wartakota.txt',\n",
       " 'Mendebarkan! 5 Penumpang Terluka, Begini Suasana AirAsia Saat Turbulensi Berat, Bikin Menjerit - TribunTravel.com.txt',\n",
       " 'Mengapa Xiaomi Mi 6 Harus Mengikuti Langkah iPhone 7? - Kompas.com.txt',\n",
       " 'Morata Lebih Tajam daripada Benzema, Zidane!.txt',\n",
       " 'MOTHER OF ALL BOMBS: Gunakan Ibu Sebagai Pembunuh, Paus Fransiskus Kecam Militer AS.txt',\n",
       " 'Motorola Akan Meluncurkan Tablet Android?.txt',\n",
       " 'MoVida Bali Hadirkan Cita Rasa Asli Spanyol Dalam Pop-Up di Jakarta.txt',\n",
       " 'Negara Mana yang Jual iPhone 7 Termahal dan Termurah?.txt',\n",
       " 'Nih 5 Penyebab Utama Anda Sakit Gigi.txt',\n",
       " 'Nyaris Tekuk Juventus, Pelatih Torino Kecewa Berat.txt',\n",
       " 'Pamela Safitri Bicara Baju Melorot, Maklumat untuk Ayu Ting Ting.txt',\n",
       " 'Pasar Tablet Menipis, iPad Tetap Terlaris - Kompas.com.txt',\n",
       " 'Paus Kritik AS, Minta \"Ibu Jangan Dijadikan Nama Bom - Kompas.com.txt',\n",
       " 'Pejalan Kaki Madiun Tiba di Jakarta, Sampaikan Pesan Warga.txt',\n",
       " 'Pemilik Pertama Yamaha X-Max di Indonesia.txt',\n",
       " 'Pemprov DKI Selidiki Keamanan Busa Proyek MRT yang Menghebohkan.txt',\n",
       " 'Penis Anda Tidak Ingin Patah? Hindari Posisi Seks Ini-.txt',\n",
       " 'Penjelasan MRT Jakarta Soal Buih Mirip Salju di Jalan Sudirman.txt',\n",
       " 'Penting Deteksi Dini dan Pencegahan Prediabetes.txt',\n",
       " 'Petani Dihalangi Paspampres di Depannya, Ini yang Dilakukan Jokowi.txt',\n",
       " 'Petugas PT MRT Bersihkan Buih Mirip Salju di Jalan Sudirman.txt',\n",
       " 'Polisi Kantongi Identitas Dalang Kaburnya Tahanan Rutan Pekanbaru.txt',\n",
       " 'Polisi: Jl Jend Sudirman Macet karena Salju Palsu dari Busa Air Got.txt',\n",
       " 'Prediabetes Perlu Dideteksi Lebih Dini.txt',\n",
       " 'Pujian untuk Neymar, Liukannya Seperti Penari Balet.txt',\n",
       " 'Putih-putih Berceceran di Jalanan Jakarta, Apa Ini Salju?.txt',\n",
       " 'Ratusan Tahanan yang Kabur Dipindahkan ke Sejumlah Lapas Riau.txt',\n",
       " 'Rekam Jejak Jenderal Widodo Semasa Hidupnya.txt',\n",
       " 'Rossi: Kami Belum 100 Persen - Kompas.com.txt',\n",
       " 'Rumah Murah DP 1 Persen Dilengkapi Taman Bermain dan Rumah Ibadah - Kompas.com.txt',\n",
       " 'Rumah Untuk MBR Telah Diresmikan Oleh Presiden Jokowi.txt',\n",
       " 'Sandiaga Sambut Tantangan Menko Luhut Bicara soal Reklamasi - VIVA.co.id.txt',\n",
       " \"Sebabkan Kematian, Paus Marah dengan Nama 'Ibu dari Semua Bom'.txt\",\n",
       " 'Semangat Siswa Lumpuh untuk Tetap Pergi Sekolah, Walau Digendong Ibu.txt',\n",
       " 'Sempat Bikin Heboh, Busa Mirip Salju di Jalan Sudirman Tak Tampak Lagi - Kompas.com.txt',\n",
       " 'Seorang Ibu Gendong Anaknya yang Lumpuh ke Sekolah Setiap Hari - Kompas.com.txt',\n",
       " 'Setelah Ajak ke KUA, Ini Bukti Baru Hubungan Raffi Ahmad dan Ayu Ting Ting - Sriwijaya Post.txt',\n",
       " 'Soal Reklamasi Teluk Jakarta, Bang Sandi Bakal Ngobrol Bareng dengan Luhut.txt',\n",
       " 'Sosok Budidarmo Bagi Tito Karnavian.txt',\n",
       " 'Stephen Hawking Desak Manusia Pindah ke Planet Lain.txt',\n",
       " 'Stephen Hawking: Dalam 100 Tahun, Manusia Harus Lari dari Bumi.txt',\n",
       " 'Tak Ada Masalah dalam Negosiasi, Messi Segera Teken Kontrak Baru.txt',\n",
       " 'Tantang Rekan Setimnya, Pedrosa: Marc Marquez, Ayo Kita Bertarung!.txt',\n",
       " 'Teman Sheila Marcia Alami Kondisi Paling Parah.txt',\n",
       " 'Temukan Fosil Dinosaurus Afrika, Peneliti Seperti Menang Undian.txt',\n",
       " 'Terungkap Biaya Pengobatan Jupe Selama di Rumah Sakit.txt',\n",
       " 'The Power of Yuliati: Menggendong Anak Antar Jemput Sekolah.txt',\n",
       " 'Video NASA Ungkap Hasil Penelitian Cassini di Cincin Saturnus.txt',\n",
       " 'Wajah Baru Rio, Jadi Nafas Segar KIA Jualan di Indonesia.txt',\n",
       " 'Waspada Prediabetes, Cegah Menjadi Diabetes Tipe 2!.txt',\n",
       " 'Yamaha XMax Akhirnya Sampai ke Tangan Konsumen.txt',\n",
       " 'Yamaha XMAX Resmi Rp 55 Juta, 11 Pembeli Terima Motor di IIMS.txt',\n",
       " 'Zidane Puas dengan Skuat B Real Madrid.txt']"
      ]
     },
     "execution_count": 11,
     "metadata": {},
     "output_type": "execute_result"
    }
   ],
   "source": [
    "os.listdir('google_news')"
   ]
  },
  {
   "cell_type": "code",
   "execution_count": null,
   "metadata": {
    "collapsed": true
   },
   "outputs": [],
   "source": []
  }
 ],
 "metadata": {
  "kernelspec": {
   "display_name": "Python 2",
   "language": "python",
   "name": "python2"
  },
  "language_info": {
   "codemirror_mode": {
    "name": "ipython",
    "version": 2
   },
   "file_extension": ".py",
   "mimetype": "text/x-python",
   "name": "python",
   "nbconvert_exporter": "python",
   "pygments_lexer": "ipython2",
   "version": "2.7.11"
  }
 },
 "nbformat": 4,
 "nbformat_minor": 2
}
