{
 "cells": [
  {
   "cell_type": "markdown",
   "metadata": {},
   "source": [
    "# Scraping Google News Indonesia\n",
    "\n",
    "Untuk mendapatkan artikel berita, yang paling mudah adalah mengambil kumpulan atau list yang sudah ada pada Google News.\n",
    "Untuk kasus ini, kita akan mengambil isi dari beberapa media online di Indonesia pada umumnya untuk memdapatkan Corpus Indonesian News\n",
    "\n",
    "Berikut ini link untuk Google News Indonesia https://news.google.com/?authuser=0&ned=en_id"
   ]
  },
  {
   "cell_type": "markdown",
   "metadata": {},
   "source": [
    "## Requirement\n",
    "Ada beberapa module yang akan kita gunakan untuk mengambil link artikel berita dari Google News, antara lain :\n",
    "- BeautifulSoup (bs4)"
   ]
  },
  {
   "cell_type": "markdown",
   "metadata": {},
   "source": [
    "### BeautifulSoup (bs4)"
   ]
  },
  {
   "cell_type": "markdown",
   "metadata": {},
   "source": [
    "**install bs4 menggunakan pip**\n",
    "\n",
    "```sh \n",
    "$ pip install bs4\n",
    "Collecting bs4\n",
    "Installing collected packages: bs4\n",
    "Successfully installed bs4-0.0.1\n",
    "```"
   ]
  },
  {
   "cell_type": "markdown",
   "metadata": {},
   "source": [
    "## Scrap"
   ]
  },
  {
   "cell_type": "markdown",
   "metadata": {},
   "source": [
    "### Kode Program\n",
    "Berikut kode program sederhana"
   ]
  },
  {
   "cell_type": "code",
   "execution_count": 1,
   "metadata": {
    "collapsed": true
   },
   "outputs": [],
   "source": [
    "from bs4 import BeautifulSoup\n",
    "import requests\n",
    "import time\n",
    "import datetime\n",
    "\n",
    "google_news = '''https://news.google.com/?authuser=0&ned=en_id'''\n",
    "\n",
    "def scrape_news_summaries():\n",
    "    news_summaries = []\n",
    "    \n",
    "    time.sleep(2) # setting sleep 2 detik\n",
    "    r = requests.get(str(google_news))\n",
    "    content = r.text\n",
    "\n",
    "    soup = BeautifulSoup(content, \"html.parser\")\n",
    "    st_divs = soup.find_all(\"a\", {\"class\": \"article\",'href':True})\n",
    "    for st_div in st_divs:\n",
    "        news_summaries.append(st_div['href'])\n",
    "    return news_summaries\n"
   ]
  },
  {
   "cell_type": "code",
   "execution_count": 2,
   "metadata": {},
   "outputs": [
    {
     "name": "stdout",
     "output_type": "stream",
     "text": [
      "CPU times: user 352 ms, sys: 14.8 ms, total: 367 ms\n",
      "Wall time: 4.12 s\n"
     ]
    }
   ],
   "source": [
    "%time links = scrape_news_summaries()"
   ]
  },
  {
   "cell_type": "code",
   "execution_count": 3,
   "metadata": {
    "collapsed": true
   },
   "outputs": [],
   "source": [
    "from pprint import pprint"
   ]
  },
  {
   "cell_type": "code",
   "execution_count": 4,
   "metadata": {
    "scrolled": true
   },
   "outputs": [
    {
     "name": "stdout",
     "output_type": "stream",
     "text": [
      "[u'https://news.detik.com/berita/3494229/busa-mirip-salju-di-jakarta-berawal-dari-kecerobohan-karyawan-mrt',\n",
      " u'https://news.detik.com/berita/3494229/busa-mirip-salju-di-jakarta-berawal-dari-kecerobohan-karyawan-mrt',\n",
      " u'http://megapolitan.kompas.com/read/2017/05/07/06465881/dari.mana.asal.busa.yang.dikira.salju.di.jalan.sudirman.',\n",
      " u'http://www.cnnindonesia.com/nasional/20170507095847-20-212878/gempar-hujan-salju-di-jakarta-pt-mrt-minta-maaf/',\n",
      " u'http://megapolitan.kompas.com/read/2017/05/07/06465881/dari.mana.asal.busa.yang.dikira.salju.di.jalan.sudirman.',\n",
      " u'http://megapolitan.kompas.com/read/2017/05/07/06465881/dari.mana.asal.busa.yang.dikira.salju.di.jalan.sudirman.',\n",
      " u'https://news.detik.com/berita/3494249/pemprov-dki-selidiki-keamanan-busa-proyek-mrt-yang-menghebohkan',\n",
      " u'https://news.detik.com/berita/3494249/pemprov-dki-selidiki-keamanan-busa-proyek-mrt-yang-menghebohkan',\n",
      " u'http://sains.kompas.com/read/2017/05/06/21374991/dikira.hujan.salju.ini.yang.sebenarnya.terjadi.di.jalan.sudirman',\n",
      " u'http://sains.kompas.com/read/2017/05/06/21374991/dikira.hujan.salju.ini.yang.sebenarnya.terjadi.di.jalan.sudirman']\n"
     ]
    }
   ],
   "source": [
    "pprint(links[:10])"
   ]
  },
  {
   "cell_type": "markdown",
   "metadata": {},
   "source": [
    "Masih terdapat beberapa link yang redudant, maka kita harus menghilangkan menjadi unique"
   ]
  },
  {
   "cell_type": "code",
   "execution_count": 5,
   "metadata": {
    "collapsed": true,
    "scrolled": false
   },
   "outputs": [],
   "source": [
    "links_unique = list(set(links))"
   ]
  },
  {
   "cell_type": "code",
   "execution_count": 6,
   "metadata": {},
   "outputs": [
    {
     "name": "stdout",
     "output_type": "stream",
     "text": [
      "[u'http://news.okezone.com/read/2017/05/06/337/1684967/fokus-refleksi-figur-widodo-budidarmo-setara-hoegeng-kapan-polri-punya-penerus-yang-begini-lagi',\n",
      " u'http://sains.kompas.com/read/2017/05/06/21374991/dikira.hujan.salju.ini.yang.sebenarnya.terjadi.di.jalan.sudirman',\n",
      " u'https://m.detik.com/sepakbola/liga-spanyol/3494267/tak-ada-masalah-dalam-negosiasi-messi-segera-teken-kontrak-baru',\n",
      " u'http://gayahidup.republika.co.id/berita/gaya-hidup/trend/17/05/07/opk0cx328-banjir-diskon-kosmetik-di-jakarta-x-beauty-2017',\n",
      " u'https://news.detik.com/berita/3494249/pemprov-dki-selidiki-keamanan-busa-proyek-mrt-yang-menghebohkan',\n",
      " u'http://internasional.kompas.com/read/2017/05/07/10000021/paus.kritik.as.minta.ibu.jangan.dijadikan.nama.bom',\n",
      " u'http://news.okezone.com/read/2017/05/05/338/1684432/fokus-alhamdulillah-gerakan-penutup-aksi-simpatik-55-hasilkan-jaminan-ma-atas-kasus-ahok',\n",
      " u'http://www.bintang.com/celeb/read/2943761/9-tahun-bercerai-ahmad-dhani-maia-estianty-kembali-foto-bersama',\n",
      " u'http://news.metrotvnews.com/peristiwa/8ko0Xo5K-sosok-budidarmo-bagi-tito-karnavian',\n",
      " u'http://internasional.kompas.com/read/2017/05/07/11000041/ditukar.tahanan.boko.haram.lepas.82.siswi.korban.penculikan.']\n"
     ]
    }
   ],
   "source": [
    "pprint(links_unique[:10])"
   ]
  },
  {
   "cell_type": "markdown",
   "metadata": {},
   "source": [
    "## Menyimpan Hasil"
   ]
  },
  {
   "cell_type": "code",
   "execution_count": 7,
   "metadata": {
    "collapsed": true
   },
   "outputs": [],
   "source": [
    "f = open('list_links_google_news_indonesia.txt','w')"
   ]
  },
  {
   "cell_type": "code",
   "execution_count": 8,
   "metadata": {
    "collapsed": true
   },
   "outputs": [],
   "source": [
    "f.write(str(links_unique))\n",
    "f.close()"
   ]
  },
  {
   "cell_type": "markdown",
   "metadata": {},
   "source": [
    "Sekarang kita sudah mendapatkan unique links dari Google News Indonesia.\n",
    "\n",
    "Semoga bermanfaat"
   ]
  }
 ],
 "metadata": {
  "kernelspec": {
   "display_name": "Python 2",
   "language": "python",
   "name": "python2"
  },
  "language_info": {
   "codemirror_mode": {
    "name": "ipython",
    "version": 2
   },
   "file_extension": ".py",
   "mimetype": "text/x-python",
   "name": "python",
   "nbconvert_exporter": "python",
   "pygments_lexer": "ipython2",
   "version": "2.7.11"
  }
 },
 "nbformat": 4,
 "nbformat_minor": 2
}
