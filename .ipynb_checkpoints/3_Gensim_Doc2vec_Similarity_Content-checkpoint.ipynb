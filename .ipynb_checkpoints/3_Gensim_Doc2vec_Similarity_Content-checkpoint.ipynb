{
 "cells": [
  {
   "cell_type": "markdown",
   "metadata": {},
   "source": [
    "# Gensim - Doc2vec untuk Similarity Content\n",
    "Similarity Content menggunakan vector merupakan cara sederhana untuk mendapatkan kesamaan dari sebuah artikel.\n",
    "Dalam kasus ini saya akan menggunakan hasil scraping data google news indonesia berjumlah 77 documents saja.\n",
    "\n",
    "Adapun module yang digunakan adalah menggunkan gensim"
   ]
  },
  {
   "cell_type": "markdown",
   "metadata": {},
   "source": [
    "## Requirement\n",
    "- Gensim 2.0"
   ]
  },
  {
   "cell_type": "markdown",
   "metadata": {},
   "source": [
    "## Kode Sederhana"
   ]
  },
  {
   "cell_type": "code",
   "execution_count": 1,
   "metadata": {
    "collapsed": true
   },
   "outputs": [],
   "source": [
    "import logging\n",
    "logging.basicConfig(format='%(asctime)s : %(levelname)s : %(message)s', level=logging.INFO)"
   ]
  },
  {
   "cell_type": "code",
   "execution_count": 2,
   "metadata": {},
   "outputs": [
    {
     "name": "stderr",
     "output_type": "stream",
     "text": [
      "2017-05-07 12:39:28,206 : INFO : 'pattern' package found; tag filters are available for English\n"
     ]
    }
   ],
   "source": [
    "from gensim.models.doc2vec import Doc2Vec, TaggedDocument\n",
    "import gensim\n",
    "from pprint import pprint\n",
    "import multiprocessing\n",
    "import os"
   ]
  },
  {
   "cell_type": "code",
   "execution_count": 3,
   "metadata": {
    "collapsed": true
   },
   "outputs": [],
   "source": [
    "dirname = 'google_news'\n",
    "documents_file = os.listdir(dirname)\n",
    "\n",
    "documents = []\n",
    "\n",
    "for fname in documents_file:\n",
    "    f = open(os.path.join(dirname,fname),'rU')\n",
    "    content = f.read().decode('utf-8')\n",
    "    title = fname.replace('.txt','')\n",
    "    documents.append(TaggedDocument(gensim.utils.simple_preprocess(content, max_len=30), [title]))\n",
    "    "
   ]
  },
  {
   "cell_type": "code",
   "execution_count": 4,
   "metadata": {},
   "outputs": [
    {
     "name": "stdout",
     "output_type": "stream",
     "text": [
      "[\"'Saya Turun di Lapangan dan tak Melihat Ada Upaya Makar'\"]\n"
     ]
    }
   ],
   "source": [
    "pprint(documents[:1][0].tags)"
   ]
  },
  {
   "cell_type": "code",
   "execution_count": 5,
   "metadata": {},
   "outputs": [
    {
     "name": "stdout",
     "output_type": "stream",
     "text": [
      "[u'republika',\n",
      " u'co',\n",
      " u'id',\n",
      " u'jakarta',\n",
      " u'ketua',\n",
      " u'setara',\n",
      " u'institute',\n",
      " u'hendardi',\n",
      " u'yang',\n",
      " u'menyebut']\n"
     ]
    }
   ],
   "source": [
    "pprint(documents[:1][0].words[:10])"
   ]
  },
  {
   "cell_type": "code",
   "execution_count": 6,
   "metadata": {
    "collapsed": true
   },
   "outputs": [],
   "source": [
    "cores = multiprocessing.cpu_count()\n",
    "model = Doc2Vec(dm=0, dbow_words=1, size=200, window=10, min_count=10, iter=200, workers=cores, sample=1e-4, negative=5)"
   ]
  },
  {
   "cell_type": "code",
   "execution_count": null,
   "metadata": {},
   "outputs": [
    {
     "name": "stderr",
     "output_type": "stream",
     "text": [
      "2017-05-07 12:39:28,413 : INFO : collecting all words and their counts\n",
      "2017-05-07 12:39:28,416 : INFO : PROGRESS: at example #0, processed 0 words (0/s), 0 word types, 0 tags\n",
      "2017-05-07 12:39:28,448 : INFO : collected 5744 word types and 119 unique tags from a corpus of 119 examples and 31481 words\n",
      "2017-05-07 12:39:28,451 : INFO : Loading a fresh vocabulary\n",
      "2017-05-07 12:39:28,523 : INFO : min_count=10 retains 598 unique words (10% of original 5744, drops 5146)\n",
      "2017-05-07 12:39:28,525 : INFO : min_count=10 leaves 19884 word corpus (63% of original 31481, drops 11597)\n",
      "2017-05-07 12:39:28,534 : INFO : deleting the raw counts dictionary of 5744 items\n",
      "2017-05-07 12:39:28,536 : INFO : sample=0.0001 downsamples 598 most-common words\n",
      "2017-05-07 12:39:28,539 : INFO : downsampling leaves estimated 5476 word corpus (27.5% of prior 19884)\n",
      "2017-05-07 12:39:28,551 : INFO : estimated required memory for 598 words and 200 dimensions: 1374800 bytes\n",
      "2017-05-07 12:39:28,560 : INFO : resetting layer weights\n"
     ]
    },
    {
     "name": "stdout",
     "output_type": "stream",
     "text": [
      "Doc2Vec(dbow+w,d200,n5,w10,mc10,s0.0001,t4)\n"
     ]
    }
   ],
   "source": [
    "model.build_vocab(documents,update=False)\n",
    "print(str(model))"
   ]
  },
  {
   "cell_type": "code",
   "execution_count": null,
   "metadata": {},
   "outputs": [
    {
     "name": "stderr",
     "output_type": "stream",
     "text": [
      "2017-05-07 12:39:28,734 : INFO : training model with 4 workers on 598 vocabulary and 200 features, using sg=1 hs=0 sample=0.0001 negative=5 window=10\n",
      "2017-05-07 12:39:29,750 : INFO : PROGRESS: at 2.04% examples, 113827 words/s, in_qsize 8, out_qsize 0\n",
      "2017-05-07 12:39:30,761 : INFO : PROGRESS: at 3.69% examples, 102839 words/s, in_qsize 8, out_qsize 0\n",
      "2017-05-07 12:39:31,765 : INFO : PROGRESS: at 5.22% examples, 97023 words/s, in_qsize 7, out_qsize 0\n",
      "2017-05-07 12:39:32,768 : INFO : PROGRESS: at 6.53% examples, 91136 words/s, in_qsize 7, out_qsize 0\n",
      "2017-05-07 12:39:33,793 : INFO : PROGRESS: at 8.53% examples, 94670 words/s, in_qsize 8, out_qsize 0\n",
      "2017-05-07 12:39:34,801 : INFO : PROGRESS: at 11.07% examples, 102307 words/s, in_qsize 7, out_qsize 1\n",
      "2017-05-07 12:39:35,807 : INFO : PROGRESS: at 13.94% examples, 110434 words/s, in_qsize 8, out_qsize 1\n",
      "2017-05-07 12:39:36,838 : INFO : PROGRESS: at 16.82% examples, 116267 words/s, in_qsize 8, out_qsize 0\n",
      "2017-05-07 12:39:37,848 : INFO : PROGRESS: at 19.63% examples, 120621 words/s, in_qsize 8, out_qsize 0\n",
      "2017-05-07 12:39:38,859 : INFO : PROGRESS: at 21.85% examples, 120826 words/s, in_qsize 7, out_qsize 0\n",
      "2017-05-07 12:39:39,865 : INFO : PROGRESS: at 24.07% examples, 121050 words/s, in_qsize 8, out_qsize 0\n",
      "2017-05-07 12:39:40,866 : INFO : PROGRESS: at 26.35% examples, 121576 words/s, in_qsize 7, out_qsize 0\n",
      "2017-05-07 12:39:41,870 : INFO : PROGRESS: at 29.07% examples, 123852 words/s, in_qsize 8, out_qsize 0\n",
      "2017-05-07 12:39:42,896 : INFO : PROGRESS: at 31.60% examples, 124857 words/s, in_qsize 7, out_qsize 0\n",
      "2017-05-07 12:39:43,913 : INFO : PROGRESS: at 33.88% examples, 124916 words/s, in_qsize 7, out_qsize 0\n",
      "2017-05-07 12:39:44,919 : INFO : PROGRESS: at 36.28% examples, 125501 words/s, in_qsize 8, out_qsize 0\n",
      "2017-05-07 12:39:45,923 : INFO : PROGRESS: at 38.56% examples, 125608 words/s, in_qsize 8, out_qsize 0\n",
      "2017-05-07 12:39:46,930 : INFO : PROGRESS: at 40.97% examples, 126057 words/s, in_qsize 7, out_qsize 0\n",
      "2017-05-07 12:39:47,933 : INFO : PROGRESS: at 43.28% examples, 126216 words/s, in_qsize 7, out_qsize 0\n",
      "2017-05-07 12:39:48,966 : INFO : PROGRESS: at 45.94% examples, 127120 words/s, in_qsize 7, out_qsize 0\n",
      "2017-05-07 12:39:49,974 : INFO : PROGRESS: at 48.28% examples, 127259 words/s, in_qsize 8, out_qsize 0\n",
      "2017-05-07 12:39:50,986 : INFO : PROGRESS: at 50.47% examples, 126988 words/s, in_qsize 7, out_qsize 0\n"
     ]
    }
   ],
   "source": [
    "%time model.train(documents, total_examples=model.corpus_count, epochs=model.iter)"
   ]
  },
  {
   "cell_type": "code",
   "execution_count": null,
   "metadata": {},
   "outputs": [],
   "source": [
    "print(str(model))\n",
    "pprint(model.docvecs.most_similar(positive=[\"5 Kesamaan Xiaomi Mi 6 dan iPhone 7 Plus\"], topn=10))"
   ]
  },
  {
   "cell_type": "code",
   "execution_count": null,
   "metadata": {},
   "outputs": [],
   "source": [
    "text_search = '''Zidane Real Madrid'''\n",
    "inferred_vector = model.infer_vector(text_search.lower().split())\n",
    "model.docvecs.most_similar([inferred_vector], topn=10)"
   ]
  },
  {
   "cell_type": "code",
   "execution_count": null,
   "metadata": {
    "collapsed": true
   },
   "outputs": [],
   "source": []
  }
 ],
 "metadata": {
  "kernelspec": {
   "display_name": "Python 2",
   "language": "python",
   "name": "python2"
  },
  "language_info": {
   "codemirror_mode": {
    "name": "ipython",
    "version": 2
   },
   "file_extension": ".py",
   "mimetype": "text/x-python",
   "name": "python",
   "nbconvert_exporter": "python",
   "pygments_lexer": "ipython2",
   "version": "2.7.11"
  }
 },
 "nbformat": 4,
 "nbformat_minor": 2
}
