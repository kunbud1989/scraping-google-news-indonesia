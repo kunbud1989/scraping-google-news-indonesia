{
 "cells": [
  {
   "cell_type": "markdown",
   "metadata": {},
   "source": [
    "# Scraping Google News Indonesia\n",
    "\n",
    "Untuk mendapatkan artikel berita, yang paling mudah adalah mengambil kumpulan atau list yang sudah ada pada Google News.\n",
    "Untuk kasus ini, kita akan mengambil isi dari beberapa media online di Indonesia pada umumnya untuk memdapatkan Corpus Indonesian News\n",
    "\n",
    "Berikut ini link untuk Google News Indonesia https://news.google.com/?authuser=0&ned=en_id"
   ]
  },
  {
   "cell_type": "markdown",
   "metadata": {},
   "source": [
    "## Requirement\n",
    "Ada beberapa module yang akan kita gunakan untuk mengambil link artikel berita dari Google News, antara lain :\n",
    "- BeautifulSoup (bs4)"
   ]
  },
  {
   "cell_type": "markdown",
   "metadata": {},
   "source": [
    "### BeautifulSoup (bs4)"
   ]
  },
  {
   "cell_type": "markdown",
   "metadata": {},
   "source": [
    "**install bs4 menggunakan pip**\n",
    "\n",
    "```sh \n",
    "$ pip install bs4\n",
    "Collecting bs4\n",
    "Installing collected packages: bs4\n",
    "Successfully installed bs4-0.0.1\n",
    "```"
   ]
  },
  {
   "cell_type": "markdown",
   "metadata": {},
   "source": [
    "## Scrap"
   ]
  },
  {
   "cell_type": "markdown",
   "metadata": {},
   "source": [
    "### Kode Program\n",
    "Berikut kode program sederhana"
   ]
  },
  {
   "cell_type": "code",
   "execution_count": 1,
   "metadata": {
    "collapsed": true
   },
   "outputs": [],
   "source": [
    "from bs4 import BeautifulSoup\n",
    "import requests\n",
    "import time\n",
    "import datetime\n",
    "\n",
    "google_news = '''https://news.google.com/?authuser=0&ned=en_id'''\n",
    "\n",
    "def scrape_news_summaries():\n",
    "    news_summaries = []\n",
    "    \n",
    "    time.sleep(2) # setting sleep 2 detik\n",
    "    r = requests.get(str(google_news))\n",
    "    content = r.text\n",
    "\n",
    "    soup = BeautifulSoup(content, \"html.parser\")\n",
    "    st_divs = soup.find_all(\"a\", {\"class\": \"article\",'href':True})\n",
    "    for st_div in st_divs:\n",
    "        news_summaries.append(st_div['href'])\n",
    "    return news_summaries\n"
   ]
  },
  {
   "cell_type": "code",
   "execution_count": 2,
   "metadata": {},
   "outputs": [
    {
     "name": "stdout",
     "output_type": "stream",
     "text": [
      "CPU times: user 404 ms, sys: 20.7 ms, total: 425 ms\n",
      "Wall time: 3.78 s\n"
     ]
    }
   ],
   "source": [
    "%time links = scrape_news_summaries()"
   ]
  },
  {
   "cell_type": "code",
   "execution_count": 3,
   "metadata": {
    "collapsed": true
   },
   "outputs": [],
   "source": [
    "from pprint import pprint"
   ]
  },
  {
   "cell_type": "code",
   "execution_count": 4,
   "metadata": {
    "scrolled": true
   },
   "outputs": [
    {
     "name": "stdout",
     "output_type": "stream",
     "text": [
      "[u'https://news.detik.com/berita/3494173/polisi-jl-jend-sudirman-macet-karena-salju-palsu-dari-busa-air-got',\n",
      " u'https://news.detik.com/berita/3494173/polisi-jl-jend-sudirman-macet-karena-salju-palsu-dari-busa-air-got',\n",
      " u'https://news.detik.com/berita/d-3494197/malam-ini-jumlah-tahanan-tertangkap-terus-bertambah-di-pekanbaru',\n",
      " u'https://news.detik.com/berita/d-3494197/malam-ini-jumlah-tahanan-tertangkap-terus-bertambah-di-pekanbaru',\n",
      " u'http://news.okezone.com/read/2017/05/07/340/1685156/pengamat-anggap-rumitnya-masalah-di-rutan-pekanbaru-sebabkan-napi-kabur',\n",
      " u'http://nasional.news.viva.co.id/news/read/912749-jumlah-napi-yang-kabur-dari-rutan-pekanbaru-428-orang',\n",
      " u'http://www.cnnindonesia.com/politik/20170507004304-32-212852/hak-angket-dpr-ke-kpk-lemah-secara-politik-dan-hukum/',\n",
      " u'http://www.cnnindonesia.com/politik/20170507004304-32-212852/hak-angket-dpr-ke-kpk-lemah-secara-politik-dan-hukum/',\n",
      " u'http://nasional.kompas.com/read/2017/05/06/11453411/soal.hak.angket.kpk.ini.instruksi.sby.untuk.fraksi.demokrat',\n",
      " u'http://www.tribunnews.com/nasional/2017/05/07/masinton-novel-baswedan-beri-keterangan-palsu-di-sidang-e-ktp']\n"
     ]
    }
   ],
   "source": [
    "pprint(links[:10])"
   ]
  },
  {
   "cell_type": "markdown",
   "metadata": {},
   "source": [
    "Masih terdapat beberapa link yang redudant, maka kita harus menghilangkan menjadi unique"
   ]
  },
  {
   "cell_type": "code",
   "execution_count": 5,
   "metadata": {
    "scrolled": false
   },
   "outputs": [],
   "source": [
    "links_unique = list(set(links))"
   ]
  },
  {
   "cell_type": "code",
   "execution_count": 6,
   "metadata": {},
   "outputs": [
    {
     "name": "stdout",
     "output_type": "stream",
     "text": [
      "[u'http://celebrity.okezone.com/read/2017/05/06/33/1684964/el-rumi-rayakan-kelulusan-di-puncak-gunung-penanggungan',\n",
      " u'http://tekno.kompas.com/read/2017/05/05/15515147/ini.kata.peserta.gadget.story.setelah.menjajal.galaxy.s8',\n",
      " u'http://bola.liputan6.com/read/2943619/ini-alasan-real-madrid-simpan-ronaldo-lawan-granada',\n",
      " u'https://beritabulukumba.com/read/pra-porda-makassar-bungkam-bulukumba-dua-gol-tanpa-balas?google_editors_picks=true',\n",
      " u'http://news.liputan6.com/read/2941734/tim-anies-sebut-rpjmd-sepenuhnya-kebijakan-gubernur-baru',\n",
      " u'https://sport.detik.com/sepakbola/liga-spanyol/3494214/madrid-gebuk-granada-4-0',\n",
      " u'https://lifestyle.sindonews.com/read/1203013/187/wisuda-el-satukan-ahmad-dhani-dan-maia-estianty-1494054466',\n",
      " u'https://news.detik.com/internasional/d-3494213/ismail-haniya-terpilih-sebagai-pemimpin-hamas',\n",
      " u'https://beritabulukumba.com/read/tekuk-tuan-rumah-perseru-2-1-psm-makassar-puncaki-klasemen-liga-1?google_editors_picks=true',\n",
      " u'https://metro.sindonews.com/read/1202826/170/peserta-aksi-55-mulai-meninggalkan-masjid-istiqlal-1493978902']\n"
     ]
    }
   ],
   "source": [
    "pprint(links_unique[:10])"
   ]
  },
  {
   "cell_type": "markdown",
   "metadata": {},
   "source": [
    "## Menyimpan Hasil"
   ]
  },
  {
   "cell_type": "code",
   "execution_count": 7,
   "metadata": {
    "collapsed": true
   },
   "outputs": [],
   "source": [
    "f = open('list_links_google_news_indonesia.txt','w')"
   ]
  },
  {
   "cell_type": "code",
   "execution_count": 8,
   "metadata": {},
   "outputs": [],
   "source": [
    "f.write(str(links_unique))\n",
    "f.close()"
   ]
  },
  {
   "cell_type": "markdown",
   "metadata": {},
   "source": [
    "Sekarang kita sudah mendapatkan unique links dari Google News Indonesia.\n",
    "\n",
    "Semoga bermanfaat"
   ]
  }
 ],
 "metadata": {
  "kernelspec": {
   "display_name": "Python 2",
   "language": "python",
   "name": "python2"
  },
  "language_info": {
   "codemirror_mode": {
    "name": "ipython",
    "version": 2
   },
   "file_extension": ".py",
   "mimetype": "text/x-python",
   "name": "python",
   "nbconvert_exporter": "python",
   "pygments_lexer": "ipython2",
   "version": "2.7.11"
  }
 },
 "nbformat": 4,
 "nbformat_minor": 2
}
