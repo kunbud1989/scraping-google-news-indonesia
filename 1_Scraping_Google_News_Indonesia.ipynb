{
 "cells": [
  {
   "cell_type": "markdown",
   "metadata": {},
   "source": [
    "# Scraping Google News Indonesia\n",
    "\n",
    "Untuk mendapatkan artikel berita, yang paling mudah adalah mengambil kumpulan atau list yang sudah ada pada Google News.\n",
    "Untuk kasus ini, kita akan mengambil isi dari beberapa media online di Indonesia pada umumnya untuk memdapatkan Corpus Indonesian News\n",
    "\n",
    "Berikut ini link untuk Google News Indonesia https://news.google.com/?authuser=0&ned=en_id"
   ]
  },
  {
   "cell_type": "markdown",
   "metadata": {},
   "source": [
    "## Requirement\n",
    "Ada beberapa module yang akan kita gunakan untuk mengambil link artikel berita dari Google News, antara lain :\n",
    "- BeautifulSoup (bs4)"
   ]
  },
  {
   "cell_type": "markdown",
   "metadata": {},
   "source": [
    "### BeautifulSoup (bs4)"
   ]
  },
  {
   "cell_type": "markdown",
   "metadata": {},
   "source": [
    "**install bs4 menggunakan pip**\n",
    "\n",
    "```sh \n",
    "$ pip install bs4\n",
    "Collecting bs4\n",
    "Installing collected packages: bs4\n",
    "Successfully installed bs4-0.0.1\n",
    "```"
   ]
  },
  {
   "cell_type": "markdown",
   "metadata": {},
   "source": [
    "## Scrap"
   ]
  },
  {
   "cell_type": "markdown",
   "metadata": {},
   "source": [
    "### Kode Program\n",
    "Berikut kode program sederhana"
   ]
  },
  {
   "cell_type": "code",
   "execution_count": 9,
   "metadata": {
    "collapsed": true
   },
   "outputs": [],
   "source": [
    "from bs4 import BeautifulSoup\n",
    "import requests\n",
    "import time\n",
    "import datetime\n",
    "\n",
    "google_news = '''https://news.google.com/?authuser=0&ned=en_id'''\n",
    "\n",
    "def scrape_news_summaries():\n",
    "    news_summaries = []\n",
    "    \n",
    "    time.sleep(2) # setting sleep 2 detik\n",
    "    r = requests.get(str(google_news))\n",
    "    content = r.text\n",
    "\n",
    "    soup = BeautifulSoup(content, \"html.parser\")\n",
    "    st_divs = soup.find_all(\"a\", {\"class\": \"article\",'href':True})\n",
    "    for st_div in st_divs:\n",
    "        news_summaries.append(st_div['href'])\n",
    "    return news_summaries\n"
   ]
  },
  {
   "cell_type": "code",
   "execution_count": 10,
   "metadata": {},
   "outputs": [
    {
     "name": "stdout",
     "output_type": "stream",
     "text": [
      "CPU times: user 372 ms, sys: 70 ms, total: 442 ms\n",
      "Wall time: 3.56 s\n"
     ]
    }
   ],
   "source": [
    "%time links = scrape_news_summaries()"
   ]
  },
  {
   "cell_type": "code",
   "execution_count": 11,
   "metadata": {
    "collapsed": true
   },
   "outputs": [],
   "source": [
    "from pprint import pprint"
   ]
  },
  {
   "cell_type": "code",
   "execution_count": 12,
   "metadata": {
    "scrolled": true
   },
   "outputs": [
    {
     "name": "stdout",
     "output_type": "stream",
     "text": [
      "[u'https://news.detik.com/berita/d-3494805/kata-ahok-soal-balai-kota-yang-kini-dipenuhi-balon',\n",
      " u'https://news.detik.com/berita/d-3494805/kata-ahok-soal-balai-kota-yang-kini-dipenuhi-balon',\n",
      " u'http://megapolitan.kompas.com/read/2017/05/08/08215251/pendukung.ahok.bawa.10.000.balon.ke.balai.kota',\n",
      " u'http://news.liputan6.com/read/2944355/ribuan-balon-sambut-ahok-di-balai-kota-pagi-ini',\n",
      " u'http://megapolitan.kompas.com/read/2017/05/08/08215251/pendukung.ahok.bawa.10.000.balon.ke.balai.kota',\n",
      " u'http://megapolitan.kompas.com/read/2017/05/08/08215251/pendukung.ahok.bawa.10.000.balon.ke.balai.kota',\n",
      " u'https://www.merdeka.com/jakarta/setelah-bunga-relawan-ahok-djarot-kirim-7500-balon-ke-balai-kota.html',\n",
      " u'https://www.merdeka.com/jakarta/setelah-bunga-relawan-ahok-djarot-kirim-7500-balon-ke-balai-kota.html',\n",
      " u'https://news.detik.com/berita/d-3494791/polisi-koordinasi-dengan-kpk-untuk-periksa-novel-di-singapura',\n",
      " u'https://news.detik.com/berita/d-3494791/polisi-koordinasi-dengan-kpk-untuk-periksa-novel-di-singapura']\n"
     ]
    }
   ],
   "source": [
    "pprint(links[:10])"
   ]
  },
  {
   "cell_type": "markdown",
   "metadata": {},
   "source": [
    "Masih terdapat beberapa link yang redudant, maka kita harus menghilangkan menjadi unique"
   ]
  },
  {
   "cell_type": "code",
   "execution_count": 13,
   "metadata": {
    "collapsed": true,
    "scrolled": false
   },
   "outputs": [],
   "source": [
    "links_unique = list(set(links))"
   ]
  },
  {
   "cell_type": "code",
   "execution_count": 14,
   "metadata": {},
   "outputs": [
    {
     "name": "stdout",
     "output_type": "stream",
     "text": [
      "[u'http://news.okezone.com/read/2017/05/08/337/1685712/hari-ini-presiden-jokowi-resmikan-fasilitas-pelabuhan-di-maluku-utara',\n",
      " u'http://news.liputan6.com/read/2944082/jokowi-bagi-bagi-sepeda-untuk-warga-tanah-bumbu',\n",
      " u'http://www.suara.com/news/2017/05/08/091423/ada-ribuan-balon-merah-dan-putih-di-halaman-balai-kota',\n",
      " u'https://news.detik.com/berita/d-3494757/282-perwira-polri-dirotasi-posisi-direskrimum-polda-jabar-diganti',\n",
      " u'https://kumparan.com/kita-setara/menyingkirkan-stigma-buruk-hiv-aids',\n",
      " u'http://tekno.liputan6.com/read/2943297/top-3-nokia-3310-sudah-mulai-dipasarkan-ke-seluruh-dunia',\n",
      " u'http://www.goal.com/id-ID/news/1108/sepakbola-inggris/2017/05/08/35312102/jose-mourinho-rekor-saya-lawan-arsene-wenger-tidak-normal',\n",
      " u'https://kumparan.com/rini-friastuti/setelah-karangan-bunga-kini-warga-bawa-balon-ke-balai-kota',\n",
      " u'https://news.detik.com/berita/3494761/4-korban-tewas-kebakaran-jatinegara-merupakan-1-keluarga',\n",
      " u'http://www.netralnews.com/news/nasional/read/73898/papua.simpan.11.5.persen.jenis.anggrek.dunia']\n"
     ]
    }
   ],
   "source": [
    "pprint(links_unique[:10])"
   ]
  },
  {
   "cell_type": "markdown",
   "metadata": {},
   "source": [
    "## Menyimpan Hasil"
   ]
  },
  {
   "cell_type": "code",
   "execution_count": 15,
   "metadata": {
    "collapsed": true
   },
   "outputs": [],
   "source": [
    "f = open('list_links_google_news_indonesia.txt','w')"
   ]
  },
  {
   "cell_type": "code",
   "execution_count": 16,
   "metadata": {
    "collapsed": true
   },
   "outputs": [],
   "source": [
    "f.write(str(links_unique))\n",
    "f.close()"
   ]
  },
  {
   "cell_type": "markdown",
   "metadata": {},
   "source": [
    "Sekarang kita sudah mendapatkan unique links dari Google News Indonesia.\n",
    "\n",
    "Semoga bermanfaat"
   ]
  },
  {
   "cell_type": "code",
   "execution_count": null,
   "metadata": {
    "collapsed": true
   },
   "outputs": [],
   "source": []
  }
 ],
 "metadata": {
  "kernelspec": {
   "display_name": "Python 2",
   "language": "python",
   "name": "python2"
  },
  "language_info": {
   "codemirror_mode": {
    "name": "ipython",
    "version": 2
   },
   "file_extension": ".py",
   "mimetype": "text/x-python",
   "name": "python",
   "nbconvert_exporter": "python",
   "pygments_lexer": "ipython2",
   "version": "2.7.11"
  }
 },
 "nbformat": 4,
 "nbformat_minor": 2
}
