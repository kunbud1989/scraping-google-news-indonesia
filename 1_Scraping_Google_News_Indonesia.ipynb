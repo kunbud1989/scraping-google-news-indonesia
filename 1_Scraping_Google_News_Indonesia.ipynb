{
 "cells": [
  {
   "cell_type": "markdown",
   "metadata": {},
   "source": [
    "# Scraping Google News Indonesia\n",
    "\n",
    "Untuk mendapatkan artikel berita, yang paling mudah adalah mengambil kumpulan atau list yang sudah ada pada Google News.\n",
    "Untuk kasus ini, kita akan mengambil isi dari beberapa media online di Indonesia pada umumnya untuk memdapatkan Corpus Indonesian News\n",
    "\n",
    "Berikut ini link untuk Google News Indonesia https://news.google.com/?authuser=0&ned=en_id"
   ]
  },
  {
   "cell_type": "markdown",
   "metadata": {},
   "source": [
    "## Requirement\n",
    "Ada beberapa module yang akan kita gunakan untuk mengambil link artikel berita dari Google News, antara lain :\n",
    "- BeautifulSoup (bs4)"
   ]
  },
  {
   "cell_type": "markdown",
   "metadata": {},
   "source": [
    "### BeautifulSoup (bs4)"
   ]
  },
  {
   "cell_type": "markdown",
   "metadata": {},
   "source": [
    "**install bs4 menggunakan pip**\n",
    "\n",
    "```sh \n",
    "$ pip install bs4\n",
    "Collecting bs4\n",
    "Installing collected packages: bs4\n",
    "Successfully installed bs4-0.0.1\n",
    "```"
   ]
  },
  {
   "cell_type": "markdown",
   "metadata": {},
   "source": [
    "## Scrap"
   ]
  },
  {
   "cell_type": "markdown",
   "metadata": {},
   "source": [
    "### Kode Program\n",
    "Berikut kode program sederhana"
   ]
  },
  {
   "cell_type": "code",
   "execution_count": 1,
   "metadata": {
    "collapsed": true
   },
   "outputs": [],
   "source": [
    "from bs4 import BeautifulSoup\n",
    "import requests\n",
    "import time\n",
    "import datetime\n",
    "\n",
    "google_news = '''https://news.google.com/?authuser=0&ned=en_id'''\n",
    "\n",
    "def scrape_news_summaries():\n",
    "    news_summaries = []\n",
    "    \n",
    "    time.sleep(2) # setting sleep 2 detik\n",
    "    r = requests.get(str(google_news))\n",
    "    content = r.text\n",
    "\n",
    "    soup = BeautifulSoup(content, \"html.parser\")\n",
    "    st_divs = soup.find_all(\"a\", {\"class\": \"article\",'href':True})\n",
    "    for st_div in st_divs:\n",
    "        news_summaries.append(st_div['href'])\n",
    "    return news_summaries\n"
   ]
  },
  {
   "cell_type": "code",
   "execution_count": 2,
   "metadata": {},
   "outputs": [
    {
     "name": "stdout",
     "output_type": "stream",
     "text": [
      "CPU times: user 452 ms, sys: 32.3 ms, total: 484 ms\n",
      "Wall time: 21.6 s\n"
     ]
    }
   ],
   "source": [
    "%time links = scrape_news_summaries()"
   ]
  },
  {
   "cell_type": "code",
   "execution_count": 3,
   "metadata": {
    "collapsed": true
   },
   "outputs": [],
   "source": [
    "from pprint import pprint"
   ]
  },
  {
   "cell_type": "code",
   "execution_count": 4,
   "metadata": {
    "scrolled": true
   },
   "outputs": [
    {
     "name": "stdout",
     "output_type": "stream",
     "text": [
      "[u'https://news.detik.com/berita/d-3494805/kata-ahok-soal-balai-kota-yang-kini-dipenuhi-balon',\n",
      " u'https://news.detik.com/berita/d-3494805/kata-ahok-soal-balai-kota-yang-kini-dipenuhi-balon',\n",
      " u'http://megapolitan.kompas.com/read/2017/05/08/10124861/pendukungnya.kirim.balon.dan.kursi.roda.ini.tanggapan.ahok',\n",
      " u'http://www.cnnindonesia.com/nasional/20170508102040-20-213064/jelang-vonis-ahok-terima-dukungan-balon-merah-putih/',\n",
      " u'http://megapolitan.kompas.com/read/2017/05/08/08215251/pendukung.ahok.bawa.10.000.balon.ke.balai.kota',\n",
      " u'http://megapolitan.kompas.com/read/2017/05/08/08215251/pendukung.ahok.bawa.10.000.balon.ke.balai.kota',\n",
      " u'https://news.detik.com/berita/3494805/kata-ahok-soal-balai-kota-yang-kini-dipenuhi-balon',\n",
      " u'https://news.detik.com/berita/3494805/kata-ahok-soal-balai-kota-yang-kini-dipenuhi-balon',\n",
      " u'http://metro.news.viva.co.id/news/read/913022-jelang-vonis-balon-merah-putih-berdatangan-ke-kantor-ahok',\n",
      " u'http://metro.news.viva.co.id/news/read/913022-jelang-vonis-balon-merah-putih-berdatangan-ke-kantor-ahok']\n"
     ]
    }
   ],
   "source": [
    "pprint(links[:10])"
   ]
  },
  {
   "cell_type": "markdown",
   "metadata": {},
   "source": [
    "Masih terdapat beberapa link yang redudant, maka kita harus menghilangkan menjadi unique"
   ]
  },
  {
   "cell_type": "code",
   "execution_count": 5,
   "metadata": {
    "collapsed": true,
    "scrolled": false
   },
   "outputs": [],
   "source": [
    "links_unique = list(set(links))"
   ]
  },
  {
   "cell_type": "code",
   "execution_count": 6,
   "metadata": {},
   "outputs": [
    {
     "name": "stdout",
     "output_type": "stream",
     "text": [
      "[u'http://news.okezone.com/read/2017/05/08/337/1685712/hari-ini-presiden-jokowi-resmikan-fasilitas-pelabuhan-di-maluku-utara',\n",
      " u'http://www.tabloidbintang.com/articles/berita/Peristiwa/67006-saat-pohonpohon-berpuisi-dan-berpantun-untuk-ahokdjarot',\n",
      " u'http://teknologi.metrotvnews.com/news-teknologi/4KZEE7Wk-asus-bikin-ponsel-anyar-ini-bocoran-sementara-spesifikasinya',\n",
      " u'https://news.detik.com/berita/d-3494757/282-perwira-polri-dirotasi-posisi-direskrimum-polda-jabar-diganti',\n",
      " u'http://news.metrotvnews.com/daerah/ZkePP6Zb-sambut-jokowi-masyarakat-patani-berlatih-menyanyikan-lagu-indonesia-raya',\n",
      " u'http://www.bbc.com/indonesia/dunia-39841103',\n",
      " u'https://www.voaindonesia.com/a/spacex-akan-luncurkan-satelit-penyedia-jasa-sambungan-internet/3841122.html',\n",
      " u'https://m.tempo.co/read/news/2017/05/08/214873208/ahok-akan-divonis-ribuan-balon-penuhi-balai-kota',\n",
      " u'https://news.detik.com/bbc-world/d-3494894/bagaimana-macron-hanya-butuh-1-tahun-untuk-jadi-presiden-prancis',\n",
      " u'http://banjarmasin.tribunnews.com/2017/05/08/balai-kota-jakarta-diserbu-ribuan-balon-merah-putih-ini-tujuan-penyumbangnya']\n"
     ]
    }
   ],
   "source": [
    "pprint(links_unique[:10])"
   ]
  },
  {
   "cell_type": "markdown",
   "metadata": {},
   "source": [
    "## Menyimpan Hasil"
   ]
  },
  {
   "cell_type": "code",
   "execution_count": 7,
   "metadata": {
    "collapsed": true
   },
   "outputs": [],
   "source": [
    "f = open('list_links_google_news_indonesia.txt','w')"
   ]
  },
  {
   "cell_type": "code",
   "execution_count": 8,
   "metadata": {
    "collapsed": true
   },
   "outputs": [],
   "source": [
    "f.write(str(links_unique))\n",
    "f.close()"
   ]
  },
  {
   "cell_type": "markdown",
   "metadata": {},
   "source": [
    "Sekarang kita sudah mendapatkan unique links dari Google News Indonesia.\n",
    "\n",
    "Semoga bermanfaat"
   ]
  }
 ],
 "metadata": {
  "kernelspec": {
   "display_name": "Python 2",
   "language": "python",
   "name": "python2"
  },
  "language_info": {
   "codemirror_mode": {
    "name": "ipython",
    "version": 2
   },
   "file_extension": ".py",
   "mimetype": "text/x-python",
   "name": "python",
   "nbconvert_exporter": "python",
   "pygments_lexer": "ipython2",
   "version": "2.7.11"
  }
 },
 "nbformat": 4,
 "nbformat_minor": 2
}
