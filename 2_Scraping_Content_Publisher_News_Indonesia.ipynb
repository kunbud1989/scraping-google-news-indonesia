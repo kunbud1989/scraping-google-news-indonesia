{
 "cells": [
  {
   "cell_type": "markdown",
   "metadata": {},
   "source": [
    "# Scraping Content Publsiher News Indonesia\n",
    "Dalam tahapan ini, kita akan melakukan scraping isi dari sebuah berita.\n",
    "\n",
    "Silakan melakukan step pertama (**1_Scraping_Google_News_Indonesia.pynb**) untuk menghasilkan `list_links_google_news_indonesia.txt` yang selanjutnya akan menjadi acuhan kita mengambil content tersebut."
   ]
  },
  {
   "cell_type": "markdown",
   "metadata": {},
   "source": [
    "## Requirement\n",
    "- Goose"
   ]
  },
  {
   "cell_type": "markdown",
   "metadata": {},
   "source": [
    "### Installation\n",
    "**Goose**\n",
    "```sh\n",
    "$ git clone https://github.com/kunbud1989/python-goose.git\n",
    "$ cd python-goose\n",
    "$ pip install -r requirements.txt\n",
    "$ python setup.py install\n",
    "```"
   ]
  },
  {
   "cell_type": "markdown",
   "metadata": {},
   "source": [
    "## Kode Program"
   ]
  },
  {
   "cell_type": "code",
   "execution_count": 1,
   "metadata": {},
   "outputs": [],
   "source": [
    "from goose import Goose\n",
    "from pprint import pprint\n",
    "import string\n",
    "import datetime\n",
    "\n",
    "class scrap_news(object):\n",
    "    def __init__(self, url):\n",
    "        self.url = url\n",
    "    def scrap_publisher_news(self):\n",
    "        g = Goose(\n",
    "                {\n",
    "                    'browser_user_agent': 'Opera/9.80 (Android; Opera Mini/8.0.1807/36.1609; U; en) Presto/2.12.423 Version/12.16',\n",
    "                    'use_meta_language': False, \n",
    "                    'target_language':'id',\n",
    "                    'enable_image_fetching': False,\n",
    "                    'http_timeout': 2,\n",
    "                }\n",
    "            )\n",
    "        article = g.extract(url=self.url)\n",
    "\n",
    "        content = article.cleaned_text\n",
    "        printable = set(string.printable)\n",
    "        content = filter(lambda x: x in printable, content)\n",
    "\n",
    "        title = article.title\n",
    "        title = filter(lambda x: x in printable, title)\n",
    "        if len(content) < 2 :\n",
    "            article = g.extract(article.amphtml)\n",
    "            content = article.cleaned_text\n",
    "            content = filter(lambda x: x in printable, content)\n",
    "        else:\n",
    "            article = article    \n",
    "\n",
    "        if len(content) > 0 :\n",
    "            title = title\n",
    "            content = content.replace('\\n','')\n",
    "            \n",
    "        return (title, content)"
   ]
  },
  {
   "cell_type": "markdown",
   "metadata": {},
   "source": [
    "## Result"
   ]
  },
  {
   "cell_type": "markdown",
   "metadata": {},
   "source": [
    "**Detik.com**"
   ]
  },
  {
   "cell_type": "code",
   "execution_count": 2,
   "metadata": {},
   "outputs": [
    {
     "name": "stdout",
     "output_type": "stream",
     "text": [
      "URL : https://news.detik.com/berita/3494173/polisi-jl-jend-sudirman-macet-karena-salju-palsu-dari-busa-air-got\n",
      "Title : Polisi: Jl Jend Sudirman Macet karena Salju Palsu dari Busa Air Got\n",
      "Content : Kabar adanya salju yang di Jalan Jenderal Sudirman Jakarta ternyata membuat macet lalu lintas di lokasi. Padahal itu bukan salju, melainkan air berbusa dari got di sekitar jalan.\"Itu saluran air berbuih yang luber ke jalan. Bikin macet, banyak yang penasaran,\" kata petugas Call Center Traffic Information Center (TMC) Polda Metro Jaya, Brigadir Geri, kepada detikcom, Sabtu (6/5/2017).Sebelumnya, BMKG memperkirakan busa-busa itu berasal dari tumpahan muatan truk. Ternyata kini dipastikan, busa-busa itu berasal dari air got. Busa itu dilaporkan belum sepenuhnya surut.\"Belum surut. Sekarang lalu lintas terpantau macet, padat merayap,\" kata Geri.Lalu lintas yang dimaksud adalah Jalan Jenderal Sudirman arah Semanggi. Adapun lalu lintas arah sebaliknya, yakni Jalan Jenderal Sudirman arah Monas, dilaporkan lancar.\"Arah ke Semanggi padat,\" kata Geri.\n"
     ]
    }
   ],
   "source": [
    "url = '''https://news.detik.com/berita/3494173/polisi-jl-jend-sudirman-macet-karena-salju-palsu-dari-busa-air-got'''\n",
    "sn = scrap_news(url)\n",
    "result = sn.scrap_publisher_news()\n",
    "\n",
    "print('URL : %s' % url)\n",
    "print('Title : %s' % result[0])\n",
    "print('Content : %s' % result[1])"
   ]
  },
  {
   "cell_type": "markdown",
   "metadata": {},
   "source": [
    "**Kompas.com**"
   ]
  },
  {
   "cell_type": "code",
   "execution_count": 3,
   "metadata": {},
   "outputs": [
    {
     "name": "stdout",
     "output_type": "stream",
     "text": [
      "URL : http://sains.kompas.com/read/2017/05/06/21374991/dikira.hujan.salju.ini.yang.sebenarnya.terjadi.di.jalan.sudirman\n",
      "Title : Dikira Hujan Salju, Ini yang Sebenarnya Terjadi di Jalan Sudirman - Kompas.com\n",
      "Content : Netizen dihebohkan dengan busa yang tampak seperti salju di kawasan Jenderal Sudirman, Jakarta, Sabtu (6/5/2017).JAKARTA, KOMPAS.com - Media sosial dihebohkan video yang menyebut ada semacam hujan salju di Jalan Sudirman, Jakarta, Sabtu (6/5/2017).Namun, dugaan tersebut dibantah oleh Badan Meteorologi, Klimatologi, dan Geofisika (BMKG) dan pelaksana proyek MRT Jakarta.Sumber MRT menyatakan, obyek berwarna putih yang mirip salju itu merupakan material sisa proyek MRT.\"Jadi itu material sisa tunneling (pengeboran) yang sedang dikeluarkan. Lalu keluar dari area proyek kami dan bercampur dengan air hujan,\" demikian keterangan MRT.Ia menyampaikan, material itu ramah lingkungan dan telah dibersihkan dari lokasi sekitar pukul 19.00 WIB.Hary Tirto Djatmiko dari BMKG mengatakan, Indonesia merupakan negara tropis sehingga tidak mungkin bersalju.\"Fenomena salju biasa terjadi di daerah subtropis dan kutub, jadi tidak benar berita yang beredar tersebut,\" katanya saat dihubungi Kompas.com, Sabtu.Data BMKG juga menunjukkan bahwa suhu Jakarta pada Sabtu berkisar antara 24-32 derajat Celsius. Pada suhu itu, salju tak mungkin turun.\n"
     ]
    }
   ],
   "source": [
    "url = '''http://sains.kompas.com/read/2017/05/06/21374991/dikira.hujan.salju.ini.yang.sebenarnya.terjadi.di.jalan.sudirman'''\n",
    "sn = scrap_news(url)\n",
    "result = sn.scrap_publisher_news()\n",
    "\n",
    "print('URL : %s' % url)\n",
    "print('Title : %s' % result[0])\n",
    "print('Content : %s' % result[1])"
   ]
  },
  {
   "cell_type": "markdown",
   "metadata": {},
   "source": [
    "**Metro TV News**"
   ]
  },
  {
   "cell_type": "code",
   "execution_count": 4,
   "metadata": {},
   "outputs": [
    {
     "name": "stdout",
     "output_type": "stream",
     "text": [
      "URL : http://celebrity.okezone.com/read/2017/05/06/33/1684964/el-rumi-rayakan-kelulusan-di-puncak-gunung-penanggungan\n",
      "Title : El Rumi Rayakan Kelulusan di Puncak Gunung Penanggungan\n",
      "Content : Kepala Stasiun Seorang Kucing Bernama TamaJAKARTA  Kelulusan sekolah adalah sesuatu yang sudah sewajarnya dirayakan. Begitu juga dengan El Rumi. Putra kedua Ahmad Dhani dan Maia Estianty itu memilih merayakan momen kelulusannya dari bangku SMA dengan naik gunung Penanggungan di Pasuruan, Jawa Timur.Untuk perayaan ini, El melakukan pendakian bersama teman-temannya dan sang kakak, Al Ghazali. Bagi El, ini adalah pengalaman naik gunungnya yang ketiga. Tiga kali naik gunung, El pun tak mengalami banyak kesulitan.Kita mau pakai naik Penanggungan. Kurang lebih perjalanannya sekitar tiga jam (ke pos), kata El seperti dikutip dari tayangan Go Spot, Sabtu (6/5/2017).Beda halnya dengan Al yang belum pernah naik gunung. Di pengalaman pendakian gunung pertamanya ini, Al sempat mengalami kram di kaki hingga kakinya harus dibebat agar tak mengalami cedera.Setelah melakukan perjalanan selama beberapa jam, melewati empat pos, dan beristirahat di pos bayangan, Al, El, beserta rombongan akhirnya berhasil menjejakkan kaki di puncak Penanggungan memiliki tinggi 1663 mdpl.Ini menjadi pertama kalinya Al dan El bisa merasakan naik gunung bersama. Ketagihan. kakak beradik ini berniat melakukan pendakian bersama lagi. Rencananya, Al dan El akan mengajak Dul untuk mendaki Mahameru, puncak Semeru usai lebaran nanti.\n"
     ]
    }
   ],
   "source": [
    "url = '''http://celebrity.okezone.com/read/2017/05/06/33/1684964/el-rumi-rayakan-kelulusan-di-puncak-gunung-penanggungan'''\n",
    "sn = scrap_news(url)\n",
    "result = sn.scrap_publisher_news()\n",
    "\n",
    "print('URL : %s' % url)\n",
    "print('Title : %s' % result[0])\n",
    "print('Content : %s' % result[1])"
   ]
  },
  {
   "cell_type": "code",
   "execution_count": 5,
   "metadata": {},
   "outputs": [],
   "source": [
    "f = open('list_links_google_news_indonesia.txt','r')\n",
    "list_google_news = f.read().replace('[','').replace(']','').replace(\"u'\",\"\").replace(\"'\",\"\").split(',')"
   ]
  },
  {
   "cell_type": "code",
   "execution_count": 6,
   "metadata": {},
   "outputs": [
    {
     "name": "stdout",
     "output_type": "stream",
     "text": [
      "<type 'list'>\n"
     ]
    }
   ],
   "source": [
    "checkType = type(list_google_news)\n",
    "pprint(checkType)"
   ]
  },
  {
   "cell_type": "code",
   "execution_count": 7,
   "metadata": {},
   "outputs": [
    {
     "name": "stdout",
     "output_type": "stream",
     "text": [
      "77\n"
     ]
    }
   ],
   "source": [
    "total_link = len(list_google_news)\n",
    "pprint(total_link)"
   ]
  },
  {
   "cell_type": "code",
   "execution_count": 8,
   "metadata": {},
   "outputs": [
    {
     "name": "stdout",
     "output_type": "stream",
     "text": [
      "http://celebrity.okezone.com/read/2017/05/06/33/1684964/el-rumi-rayakan-kelulusan-di-puncak-gunung-penanggungan\n",
      " http://tekno.kompas.com/read/2017/05/05/15515147/ini.kata.peserta.gadget.story.setelah.menjajal.galaxy.s8\n",
      " http://bola.liputan6.com/read/2943619/ini-alasan-real-madrid-simpan-ronaldo-lawan-granada\n",
      " https://beritabulukumba.com/read/pra-porda-makassar-bungkam-bulukumba-dua-gol-tanpa-balas?google_editors_picks=true\n",
      " http://news.liputan6.com/read/2941734/tim-anies-sebut-rpjmd-sepenuhnya-kebijakan-gubernur-bar\n"
     ]
    }
   ],
   "source": [
    "for link in list_google_news[:5]:\n",
    "    print(link)"
   ]
  },
  {
   "cell_type": "code",
   "execution_count": 9,
   "metadata": {
    "collapsed": true
   },
   "outputs": [],
   "source": [
    "import os\n",
    "def generate_and_save_to_file(data):\n",
    "    if(len(data[1]) > 0):\n",
    "        fname = os.path.join('google_news',data[0]+'.txt')\n",
    "        f = open(fname,'w')\n",
    "        f.write(data[1])\n",
    "        f.close()\n",
    "    else:\n",
    "        fname = 'error'\n",
    "    return fname"
   ]
  },
  {
   "cell_type": "code",
   "execution_count": 10,
   "metadata": {},
   "outputs": [
    {
     "name": "stdout",
     "output_type": "stream",
     "text": [
      "1 / 77 : google_news/El Rumi Rayakan Kelulusan di Puncak Gunung Penanggungan.txt\n",
      "2 / 77 : google_news/Ini Kata Peserta \"Gadget Story\" Setelah Menjajal Galaxy S8 - Kompas.com.txt\n",
      "3 / 77 : google_news/Ini Alasan Real Madrid Simpan Ronaldo Lawan Granada.txt\n",
      "4 / 77 : google_news/Pra Porda Makassar Bungkam Bulukumba Dua Gol Tanpa Balas | Berita Bulukumba.txt\n",
      "5 / 77 : google_news/Tim Anies Sebut RPJMD Sepenuhnya Kebijakan Gubernur Baru.txt\n",
      "6 / 77 : google_news/Madrid Gebuk Granada 4-0.txt\n",
      "7 / 77 : google_news/Wisuda, El Satukan Ahmad Dhani dan Maia Estianty.txt\n",
      "8 / 77 : google_news/Ismail Haniya Terpilih Sebagai Pemimpin Hamas.txt\n",
      "9 / 77 : google_news/Tekuk Tuan Rumah Perseru 2-1, PSM Makassar Puncaki Klasemen Liga 1 | Berita Bulukumba.txt\n",
      "10 / 77 : google_news/Peserta Aksi 55 Mulai Meninggalkan Masjid Istiqlal.txt\n",
      "11 / 77 : google_news/Penis Anda Tidak Ingin Patah? Hindari Posisi Seks Ini-.txt\n",
      "12 / 77 : google_news/Semangat Siswa Lumpuh untuk Tetap Pergi Sekolah, Walau Digendong Ibu.txt\n",
      "13 / 77 : google_news/Jakarta Sulit Punya Rumah Murah, Harga Tanahnya Mahal.txt\n",
      "14 / 77 : ERROR\n",
      "15 / 77 : google_news/Ismail Haniya Terpilih Jadi Pemimpin Biro Politik Hamas.txt\n",
      "16 / 77 : google_news/Polisi: Jl Jend Sudirman Macet karena Salju Palsu dari Busa Air Got.txt\n",
      "17 / 77 : google_news/Sekilas Berkenalan dengan Oppo F3.txt\n",
      "18 / 77 : google_news/Persib Bidik Tiga Poin Meski Persiapan Mepet.txt\n",
      "19 / 77 : google_news/Tinggal di Prancis, Damien Titip Doa untuk Kesembuhan Julia Perez.txt\n",
      "20 / 77 : google_news/5 Tips Agar Suami Lebih Menikmati Seks Oral.txt\n",
      "21 / 77 : google_news/T. rex Afrika, Dinosaurus Terakhir Sebelum Punah - VIVA.co.id.txt\n",
      "22 / 77 : google_news/Statistik yang Bisa Dijaga Persipura atau Diubah Persib.txt\n",
      "23 / 77 : google_news/Korut Sebut Upaya Pembunuhan Kim Jong-un sebagai Deklarasi Perang.txt\n",
      "24 / 77 : google_news/Ponsel Berkamera adalah Kunci di Abad Selfie.txt\n",
      "25 / 77 : google_news/Jangan Sampai Terulang Lagi! Ekspresi Khusus Ini Jadi Tanda Komodo Akan Gigit Manusia - TribunTravel.com.txt\n",
      "26 / 77 : google_news/Ini Saran Jokowi agar Rakyat Bisa Beli Rumah.txt\n",
      "27 / 77 : google_news/Massa Aksi Simpatik 55 Mulai Bubar Diri dari Masjid Istiqlal.txt\n",
      "28 / 77 : google_news/Cantiknya Miss Motor Show 2017 dari Toyota.txt\n",
      "29 / 77 : google_news/Kebisingan \"Treble Winner\" di Balik Kegagalan Juventus - Kompas.com.txt\n",
      "30 / 77 : google_news/Nokia 3310 Sudah Mulai Dipasarkan ke Seluruh Dunia?.txt\n",
      "31 / 77 : google_news/Tanggapan Bijak Anak Marissa Haque Ibunda Diserang Netizen.txt\n",
      "32 / 77 : google_news/Gerah Ayahnya Diolok-olok Netizen, Putri Bungsu Ikang Fawzi Lontarkan Curhatan Menohok.txt\n",
      "33 / 77 : google_news/Duuh... Fotografer Asal Singapura Digigit Komodo, SOP Pengawalan Wisatawan Dipertanyakan.txt\n",
      "34 / 77 : google_news/Begini Rasanya Berkeliling di Korea Utara dalam Tampilan VR.txt\n",
      "35 / 77 : google_news/.txt\n",
      "36 / 77 : google_news/Enrique: Neymar Seperti Penari Balet.txt\n",
      "37 / 77 : google_news/Wiranto Siapkan Langkah untuk Bubarkan Ormas Anti-Pancasila.txt\n",
      "38 / 77 : google_news/Mendebarkan! 5 Penumpang Terluka, Begini Suasana AirAsia Saat Turbulensi Berat, Bikin Menjerit - TribunTravel.com.txt\n",
      "39 / 77 : google_news/Masinton: Novel Baswedan Beri Keterangan Palsu di Sidang E-KTP.txt\n",
      "40 / 77 : google_news/Sejarah Panjang CIA Habisi Para Pemimpin Negara di Seluruh Dunia.txt\n",
      "41 / 77 : google_news/.txt\n",
      "42 / 77 : google_news/Panglima TNI dan Polri Beda Pandangan soal Makar, Ini Kata Wiranto - Kompas.com.txt\n",
      "43 / 77 : ERROR\n",
      "44 / 77 : google_news/Harga Samsung Galaxy Express Prime 2 dan Spesifikasi, Smartphone LTE Android Nougat Sejutaan.txt\n",
      "45 / 77 : google_news/Pemerintah Sudah Deteksi Ormas Anti-Pancasila - Kompas.com.txt\n",
      "46 / 77 : google_news/9 Hari, Transaksi IIMS 2017 Tembus Rp 2,6 Triliun.txt\n",
      "47 / 77 : google_news/Puluhan Penggemar Jupe Sambangi RSCM, Ada Apa? - VIVA.co.id.txt\n",
      "48 / 77 : google_news/Hasil yang Menyakitkan untuk Torino.txt\n",
      "49 / 77 : google_news/Korut Tuding CIA Ingin Bunuh Kim Jong-Un dengan Senjata Biokimia.txt\n",
      "50 / 77 : google_news/Boko Haram lepaskan 82 siswi korban penculikan - ANTARA News.txt\n",
      "51 / 77 : google_news/Ini Alasan Xiaomi Mi 6 Tiru iPhone 7.txt\n",
      "52 / 77 : google_news/Dibully, Curhatan Putri Bungsu Marissa Haque Bikin Nangis - VIVA.co.id.txt\n",
      "53 / 77 : google_news/Kecelakaan, Job Sheila Marcia Banyak Yang Dibatalkan | M.Kapanlagi.com.txt\n",
      "54 / 77 : google_news/Diculik Semenjak 2014 oleh Boko Haram, 82 Perempuan Chibok Dibebaskan.txt\n",
      "55 / 77 : google_news/Mengapa Xiaomi Mi 6 Harus Mengikuti Langkah iPhone 7? - Kompas.com.txt\n",
      "56 / 77 : google_news/Istana: Van Der Kamp Keliru Mengkritik Jokowi Soal Ekonomi RI.txt\n",
      "57 / 77 : google_news/Temukan Fosil Dinosaurus Afrika, Peneliti Seperti Menang Undian.txt\n",
      "58 / 77 : google_news/Kapan Ponsel Nokia 3301 Versi 2017 Mulai Dipasarkan ?.txt\n",
      "59 / 77 : google_news/Kalahkan Villarreal, Barcelona Jaga Peluang Juara La Liga.txt\n",
      "60 / 77 : google_news/Stephen Hawking Desak Manusia Pindah ke Planet Lain.txt\n",
      "61 / 77 : google_news/5 Kesamaan Xiaomi Mi 6 dan iPhone 7 Plus.txt\n",
      "62 / 77 : google_news/Rayakan Kelulusan UN, Siswa SMA 8 Bulukumba Meninggal Kecelakaan | Berita Bulukumba.txt\n",
      "63 / 77 : google_news/Malam Ini Jumlah Tahanan Tertangkap Terus Bertambah di Pekanbaru.txt\n",
      "64 / 77 : google_news/9 Hari Pameran IIMS, Transaksi Mencapai Rp2,6 Triliun.txt\n",
      "65 / 77 : google_news/Rekaman Menegangkan Saat Turbulensi di AirAsia Tujuan Kuala Lumpur, Ada Tangisan Hingga Teriakan - Pos Kupang.txt\n",
      "66 / 77 : google_news/Tiga Kota Besar Indonesia Akhirnya Resmi Menjual Sosok Smartphone Flagship Samsung Galaxy S8 dan Samsung Galaxy S8 Plus.txt\n",
      "67 / 77 : google_news/Soal Hak Angket KPK, Ini Instruksi SBY untuk Fraksi Demokrat - Kompas.com.txt\n",
      "68 / 77 : google_news/Seri Galaxy C Bakal Jadi Smartphone Kamera Ganda Samsung?.txt\n",
      "69 / 77 : google_news/Ini Penjelasan Bank Mandiri Soal Gangguan Online Banking.txt\n",
      "70 / 77 : google_news/Kecelakaan, Kondisi Teman Sheila Marcia Memprihatinkan.txt\n",
      "71 / 77 : google_news/Lakukan Pungli, Pejabat BPN Palembang Jadi Tersangka.txt\n",
      "72 / 77 : google_news/Tak Terima Jokowi Disebut Keliru, Istana Surati South China Morning Post - Kompas.com.txt\n",
      "73 / 77 : google_news/Beredarnya Foto-foto Jakarta 'Bersalju' Bikin Dunia Maya Heboh.txt\n",
      "74 / 77 : google_news/.txt\n",
      "75 / 77 : google_news/OPPO Mulai Gelar Pre Order F3 di Indonesia.txt\n",
      "76 / 77 : google_news/Begini Tampilan Rumah DP 1 Persen, Cicilan Rp 800.000 Per Bulan - Kompas.com.txt\n",
      "77 / 77 : google_news/.txt\n"
     ]
    }
   ],
   "source": [
    "index_link = 1\n",
    "for link in list_google_news:\n",
    "    try:\n",
    "        url = '''%s''' % link\n",
    "        sn = scrap_news(url)\n",
    "        result = sn.scrap_publisher_news()\n",
    "        fname = generate_and_save_to_file(result)\n",
    "        print('%d / %d : %s' % (index_link,total_link,fname))\n",
    "    except:\n",
    "        print('%d / %d : %s' % (index_link,total_link,'ERROR'))\n",
    "        pass\n",
    "    index_link = index_link + 1"
   ]
  },
  {
   "cell_type": "code",
   "execution_count": 11,
   "metadata": {},
   "outputs": [
    {
     "data": {
      "text/plain": [
       "['.txt',\n",
       " '5 Kesamaan Xiaomi Mi 6 dan iPhone 7 Plus.txt',\n",
       " '5 Tips Agar Suami Lebih Menikmati Seks Oral.txt',\n",
       " '9 Hari Pameran IIMS, Transaksi Mencapai Rp2,6 Triliun.txt',\n",
       " '9 Hari, Transaksi IIMS 2017 Tembus Rp 2,6 Triliun.txt',\n",
       " 'Begini Rasanya Berkeliling di Korea Utara dalam Tampilan VR.txt',\n",
       " 'Begini Tampilan Rumah DP 1 Persen, Cicilan Rp 800.000 Per Bulan - Kompas.com.txt',\n",
       " \"Beredarnya Foto-foto Jakarta 'Bersalju' Bikin Dunia Maya Heboh.txt\",\n",
       " 'Boko Haram lepaskan 82 siswi korban penculikan - ANTARA News.txt',\n",
       " 'Cantiknya Miss Motor Show 2017 dari Toyota.txt',\n",
       " 'Dibully, Curhatan Putri Bungsu Marissa Haque Bikin Nangis - VIVA.co.id.txt',\n",
       " 'Diculik Semenjak 2014 oleh Boko Haram, 82 Perempuan Chibok Dibebaskan.txt',\n",
       " 'Duuh... Fotografer Asal Singapura Digigit Komodo, SOP Pengawalan Wisatawan Dipertanyakan.txt',\n",
       " 'El Rumi Rayakan Kelulusan di Puncak Gunung Penanggungan.txt',\n",
       " 'Enrique: Neymar Seperti Penari Balet.txt',\n",
       " 'Gerah Ayahnya Diolok-olok Netizen, Putri Bungsu Ikang Fawzi Lontarkan Curhatan Menohok.txt',\n",
       " 'Harga Samsung Galaxy Express Prime 2 dan Spesifikasi, Smartphone LTE Android Nougat Sejutaan.txt',\n",
       " 'Hasil yang Menyakitkan untuk Torino.txt',\n",
       " 'Hati-Hati, Kini Banyak Beredar Nokia 3310 Palsu!.txt',\n",
       " 'Ini Alasan Real Madrid Simpan Ronaldo Lawan Granada.txt',\n",
       " 'Ini Alasan Xiaomi Mi 6 Tiru iPhone 7.txt',\n",
       " 'Ini Kata Peserta \"Gadget Story\" Setelah Menjajal Galaxy S8 - Kompas.com.txt',\n",
       " 'Ini Penjelasan Bank Mandiri Soal Gangguan Online Banking.txt',\n",
       " 'Ini Saran Jokowi agar Rakyat Bisa Beli Rumah.txt',\n",
       " 'Ismail Haniya Terpilih Jadi Pemimpin Biro Politik Hamas.txt',\n",
       " 'Ismail Haniya Terpilih Sebagai Pemimpin Hamas.txt',\n",
       " 'Istana: Van Der Kamp Keliru Mengkritik Jokowi Soal Ekonomi RI.txt',\n",
       " 'Jakarta Sulit Punya Rumah Murah, Harga Tanahnya Mahal.txt',\n",
       " 'Jangan Sampai Terulang Lagi! Ekspresi Khusus Ini Jadi Tanda Komodo Akan Gigit Manusia - TribunTravel.com.txt',\n",
       " 'Jumlah Napi yang Kabur dari Rutan Pekanbaru 448 Orang - VIVA.co.id.txt',\n",
       " 'Kalahkan Villarreal, Barcelona Jaga Peluang Juara La Liga.txt',\n",
       " 'Kapan Ponsel Nokia 3301 Versi 2017 Mulai Dipasarkan ?.txt',\n",
       " 'Kebisingan \"Treble Winner\" di Balik Kegagalan Juventus - Kompas.com.txt',\n",
       " 'Kecelakaan, Job Sheila Marcia Banyak Yang Dibatalkan | M.Kapanlagi.com.txt',\n",
       " 'Kecelakaan, Kondisi Teman Sheila Marcia Memprihatinkan.txt',\n",
       " 'Korut Sebut Upaya Pembunuhan Kim Jong-un sebagai Deklarasi Perang.txt',\n",
       " 'Korut Tuding CIA Ingin Bunuh Kim Jong-Un dengan Senjata Biokimia.txt',\n",
       " 'Lakukan Pungli, Pejabat BPN Palembang Jadi Tersangka.txt',\n",
       " 'Madrid Gebuk Granada 4-0.txt',\n",
       " 'Malam Ini Jumlah Tahanan Tertangkap Terus Bertambah di Pekanbaru.txt',\n",
       " 'Masinton: Novel Baswedan Beri Keterangan Palsu di Sidang E-KTP.txt',\n",
       " 'Massa Aksi Simpatik 55 Mulai Bubar Diri dari Masjid Istiqlal.txt',\n",
       " 'Mendebarkan! 5 Penumpang Terluka, Begini Suasana AirAsia Saat Turbulensi Berat, Bikin Menjerit - TribunTravel.com.txt',\n",
       " 'Mengapa Xiaomi Mi 6 Harus Mengikuti Langkah iPhone 7? - Kompas.com.txt',\n",
       " 'Nokia 3310 Sudah Mulai Dipasarkan ke Seluruh Dunia?.txt',\n",
       " 'OPPO Mulai Gelar Pre Order F3 di Indonesia.txt',\n",
       " 'Panglima TNI dan Polri Beda Pandangan soal Makar, Ini Kata Wiranto - Kompas.com.txt',\n",
       " 'Pemerintah Sudah Deteksi Ormas Anti-Pancasila - Kompas.com.txt',\n",
       " 'Penis Anda Tidak Ingin Patah? Hindari Posisi Seks Ini-.txt',\n",
       " 'Persib Bidik Tiga Poin Meski Persiapan Mepet.txt',\n",
       " 'Persipura Berambisi Curi Poin di Bandung.txt',\n",
       " 'Peserta Aksi 55 Mulai Meninggalkan Masjid Istiqlal.txt',\n",
       " 'Polisi: Jl Jend Sudirman Macet karena Salju Palsu dari Busa Air Got.txt',\n",
       " 'Ponsel Berkamera adalah Kunci di Abad Selfie.txt',\n",
       " 'Pra Porda Makassar Bungkam Bulukumba Dua Gol Tanpa Balas | Berita Bulukumba.txt',\n",
       " 'Puluhan Penggemar Jupe Sambangi RSCM, Ada Apa? - VIVA.co.id.txt',\n",
       " 'Rayakan Kelulusan UN, Siswa SMA 8 Bulukumba Meninggal Kecelakaan | Berita Bulukumba.txt',\n",
       " 'Rekaman Menegangkan Saat Turbulensi di AirAsia Tujuan Kuala Lumpur, Ada Tangisan Hingga Teriakan - Pos Kupang.txt',\n",
       " 'Sejarah Panjang CIA Habisi Para Pemimpin Negara di Seluruh Dunia.txt',\n",
       " 'Sekilas Berkenalan dengan Oppo F3.txt',\n",
       " 'Semangat Siswa Lumpuh untuk Tetap Pergi Sekolah, Walau Digendong Ibu.txt',\n",
       " 'Seri Galaxy C Bakal Jadi Smartphone Kamera Ganda Samsung?.txt',\n",
       " 'Soal Hak Angket KPK, Ini Instruksi SBY untuk Fraksi Demokrat - Kompas.com.txt',\n",
       " 'Statistik yang Bisa Dijaga Persipura atau Diubah Persib.txt',\n",
       " 'Stephen Hawking Desak Manusia Pindah ke Planet Lain.txt',\n",
       " 'T. rex Afrika, Dinosaurus Terakhir Sebelum Punah - VIVA.co.id.txt',\n",
       " 'Tak Terima Jokowi Disebut Keliru, Istana Surati South China Morning Post - Kompas.com.txt',\n",
       " 'Tanggapan Bijak Anak Marissa Haque Ibunda Diserang Netizen.txt',\n",
       " 'Tekuk Tuan Rumah Perseru 2-1, PSM Makassar Puncaki Klasemen Liga 1 | Berita Bulukumba.txt',\n",
       " 'Temukan Fosil Dinosaurus Afrika, Peneliti Seperti Menang Undian.txt',\n",
       " 'Tiga Kota Besar Indonesia Akhirnya Resmi Menjual Sosok Smartphone Flagship Samsung Galaxy S8 dan Samsung Galaxy S8 Plus.txt',\n",
       " 'Tim Anies Sebut RPJMD Sepenuhnya Kebijakan Gubernur Baru.txt',\n",
       " 'Tinggal di Prancis, Damien Titip Doa untuk Kesembuhan Julia Perez.txt',\n",
       " 'Wiranto Siapkan Langkah untuk Bubarkan Ormas Anti-Pancasila.txt',\n",
       " 'Wisuda, El Satukan Ahmad Dhani dan Maia Estianty.txt']"
      ]
     },
     "execution_count": 11,
     "metadata": {},
     "output_type": "execute_result"
    }
   ],
   "source": [
    "os.listdir('google_news')"
   ]
  },
  {
   "cell_type": "code",
   "execution_count": null,
   "metadata": {
    "collapsed": true
   },
   "outputs": [],
   "source": []
  }
 ],
 "metadata": {
  "kernelspec": {
   "display_name": "Python 2",
   "language": "python",
   "name": "python2"
  },
  "language_info": {
   "codemirror_mode": {
    "name": "ipython",
    "version": 2
   },
   "file_extension": ".py",
   "mimetype": "text/x-python",
   "name": "python",
   "nbconvert_exporter": "python",
   "pygments_lexer": "ipython2",
   "version": "2.7.11"
  }
 },
 "nbformat": 4,
 "nbformat_minor": 2
}
