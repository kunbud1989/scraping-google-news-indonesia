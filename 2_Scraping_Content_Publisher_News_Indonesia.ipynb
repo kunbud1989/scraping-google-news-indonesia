{
 "cells": [
  {
   "cell_type": "markdown",
   "metadata": {},
   "source": [
    "# Scraping Content Publsiher News Indonesia\n",
    "Dalam tahapan ini, kita akan melakukan scraping isi dari sebuah berita.\n",
    "\n",
    "Silakan melakukan step pertama (**1_Scraping_Google_News_Indonesia.pynb**) untuk menghasilkan `list_links_google_news_indonesia.txt` yang selanjutnya akan menjadi acuhan kita mengambil content tersebut."
   ]
  },
  {
   "cell_type": "markdown",
   "metadata": {},
   "source": [
    "## Requirement\n",
    "- Goose"
   ]
  },
  {
   "cell_type": "markdown",
   "metadata": {},
   "source": [
    "### Installation\n",
    "**Goose**\n",
    "```sh\n",
    "$ git clone https://github.com/kunbud1989/python-goose.git\n",
    "$ cd python-goose\n",
    "$ pip install -r requirements.txt\n",
    "$ python setup.py install\n",
    "```"
   ]
  },
  {
   "cell_type": "markdown",
   "metadata": {},
   "source": [
    "## Kode Program"
   ]
  },
  {
   "cell_type": "code",
   "execution_count": 1,
   "metadata": {
    "collapsed": true
   },
   "outputs": [],
   "source": [
    "from goose import Goose\n",
    "from pprint import pprint\n",
    "import string\n",
    "import datetime\n",
    "\n",
    "class scrap_news(object):\n",
    "    def __init__(self, url):\n",
    "        self.url = url\n",
    "    def scrap_publisher_news(self):\n",
    "        g = Goose(\n",
    "                {\n",
    "#                     'browser_user_agent': 'Opera/9.80 (Android; Opera Mini/8.0.1807/36.1609; U; en) Presto/2.12.423 Version/12.16',\n",
    "                    'use_meta_language': False, \n",
    "                    'target_language':'id',\n",
    "                    'enable_image_fetching': False,\n",
    "                    'http_timeout': 2,\n",
    "                }\n",
    "            )\n",
    "        article = g.extract(url=self.url)\n",
    "\n",
    "        content = article.cleaned_text\n",
    "        printable = set(string.printable)\n",
    "        content = filter(lambda x: x in printable, content)\n",
    "\n",
    "        title = article.title\n",
    "        title = filter(lambda x: x in printable, title)\n",
    "        if len(content) < 2 :\n",
    "            article = g.extract(article.amphtml)\n",
    "            content = article.cleaned_text\n",
    "            content = filter(lambda x: x in printable, content)\n",
    "        else:\n",
    "            article = article    \n",
    "\n",
    "        if len(content) > 0 :\n",
    "            title = title\n",
    "            content = content.replace('\\n','')\n",
    "            \n",
    "        return (title, content)"
   ]
  },
  {
   "cell_type": "markdown",
   "metadata": {},
   "source": [
    "## Result"
   ]
  },
  {
   "cell_type": "markdown",
   "metadata": {},
   "source": [
    "**Detik.com**"
   ]
  },
  {
   "cell_type": "code",
   "execution_count": 5,
   "metadata": {},
   "outputs": [
    {
     "name": "stdout",
     "output_type": "stream",
     "text": [
      "URL : https://news.detik.com/berita/3494173/polisi-jl-jend-sudirman-macet-karena-salju-palsu-dari-busa-air-got\n",
      "Title : Polisi: Jl Jend Sudirman Macet karena Salju Palsu dari Busa Air Got\n",
      "Content : Kabar adanya salju yang di Jalan Jenderal Sudirman Jakarta ternyata membuat macet lalu lintas di lokasi. Padahal itu bukan salju, melainkan air berbusa dari got di sekitar jalan.\"Itu saluran air berbuih yang luber ke jalan. Bikin macet, banyak yang penasaran,\" kata petugas Call Center Traffic Information Center (TMC) Polda Metro Jaya, Brigadir Geri, kepada detikcom, Sabtu (6/5/2017).Sebelumnya, BMKG memperkirakan busa-busa itu berasal dari tumpahan muatan truk. Ternyata kini dipastikan, busa-busa itu berasal dari air got. Busa itu dilaporkan belum sepenuhnya surut.\"Belum surut. Sekarang lalu lintas terpantau macet, padat merayap,\" kata Geri.Lalu lintas yang dimaksud adalah Jalan Jenderal Sudirman arah Semanggi. Adapun lalu lintas arah sebaliknya, yakni Jalan Jenderal Sudirman arah Monas, dilaporkan lancar.\"Arah ke Semanggi padat,\" kata Geri.\n"
     ]
    }
   ],
   "source": [
    "url = '''https://news.detik.com/berita/3494173/polisi-jl-jend-sudirman-macet-karena-salju-palsu-dari-busa-air-got'''\n",
    "sn = scrap_news(url)\n",
    "result = sn.scrap_publisher_news()\n",
    "\n",
    "print('URL : %s' % url)\n",
    "print('Title : %s' % result[0])\n",
    "print('Content : %s' % result[1])"
   ]
  },
  {
   "cell_type": "markdown",
   "metadata": {},
   "source": [
    "**Kumparan**"
   ]
  },
  {
   "cell_type": "code",
   "execution_count": 8,
   "metadata": {},
   "outputs": [
    {
     "name": "stdout",
     "output_type": "stream",
     "text": [
      "URL : https://kumparan.com/kita-setara/menyingkirkan-stigma-buruk-hiv-aids\n",
      "Title : \n",
      "Content : \n"
     ]
    }
   ],
   "source": [
    "url = '''https://kumparan.com/kita-setara/menyingkirkan-stigma-buruk-hiv-aids'''\n",
    "sn = scrap_news(url)\n",
    "result = sn.scrap_publisher_news()\n",
    "\n",
    "print('URL : %s' % url)\n",
    "print('Title : %s' % result[0])\n",
    "print('Content : %s' % result[1])"
   ]
  },
  {
   "cell_type": "markdown",
   "metadata": {},
   "source": [
    "**Metro TV News**"
   ]
  },
  {
   "cell_type": "code",
   "execution_count": 7,
   "metadata": {},
   "outputs": [
    {
     "name": "stdout",
     "output_type": "stream",
     "text": [
      "URL : http://celebrity.okezone.com/read/2017/05/06/33/1684964/el-rumi-rayakan-kelulusan-di-puncak-gunung-penanggungan\n",
      "Title : El Rumi Rayakan Kelulusan di Puncak Gunung Penanggungan\n",
      "Content : JAKARTA  Kelulusan sekolah adalah sesuatu yang sudah sewajarnya dirayakan. Begitu juga dengan El Rumi. Putra kedua Ahmad Dhani dan Maia Estianty itu memilih merayakan momen kelulusannya dari bangku SMA dengan naik gunung Penanggungan di Pasuruan, Jawa Timur.Untuk perayaan ini, El melakukan pendakian bersama teman-temannya dan sang kakak, Al Ghazali. Bagi El, ini adalah pengalaman naik gunungnya yang ketiga. Tiga kali naik gunung, El pun tak mengalami banyak kesulitan.Kita mau pakai naik Penanggungan. Kurang lebih perjalanannya sekitar tiga jam (ke pos), kata El seperti dikutip dari tayangan Go Spot, Sabtu (6/5/2017).Beda halnya dengan Al yang belum pernah naik gunung. Di pengalaman pendakian gunung pertamanya ini, Al sempat mengalami kram di kaki hingga kakinya harus dibebat agar tak mengalami cedera.Setelah melakukan perjalanan selama beberapa jam, melewati empat pos, dan beristirahat di pos bayangan, Al, El, beserta rombongan akhirnya berhasil menjejakkan kaki di puncak Penanggungan memiliki tinggi 1663 mdpl.Ini menjadi pertama kalinya Al dan El bisa merasakan naik gunung bersama. Ketagihan. kakak beradik ini berniat melakukan pendakian bersama lagi. Rencananya, Al dan El akan mengajak Dul untuk mendaki Mahameru, puncak Semeru usai lebaran nanti.\n"
     ]
    }
   ],
   "source": [
    "url = '''http://celebrity.okezone.com/read/2017/05/06/33/1684964/el-rumi-rayakan-kelulusan-di-puncak-gunung-penanggungan'''\n",
    "sn = scrap_news(url)\n",
    "result = sn.scrap_publisher_news()\n",
    "\n",
    "print('URL : %s' % url)\n",
    "print('Title : %s' % result[0])\n",
    "print('Content : %s' % result[1])"
   ]
  },
  {
   "cell_type": "code",
   "execution_count": 9,
   "metadata": {},
   "outputs": [
    {
     "data": {
      "text/plain": [
       "{' http://banjarmasin.tribunnews.com/2017/05/07/aneh-dokter-temukan-binatang-belut-hidup-di-perut-pasien-penyebabnya-sulit-dinalar-akal',\n",
       " ' http://banjarmasin.tribunnews.com/2017/05/08/balai-kota-jakarta-diserbu-ribuan-balon-merah-putih-ini-tujuan-penyumbangnya',\n",
       " ' http://bisniskeuangan.kompas.com/read/2017/05/07/212133926/mandiri.online.normal.kembali',\n",
       " ' http://bisniskeuangan.kompas.com/read/2017/05/08/090000326/pesawat.jet.penumpang.pertama.buatan.china.sukses.terbang.perdana',\n",
       " ' http://bola.kompas.com/read/2017/05/08/09350098/persipura.kalah.dari.persib.liestiadi.apresiasi.permainan.boaz.dkk',\n",
       " ' http://bola.kompas.com/read/2017/05/08/10000048/man.united.takluk.mourinho.alihkan.perhatian.ke.liga.europa',\n",
       " ' http://bola.liputan6.com/read/2944325/regulasi-pemain-muda-bikin-persib-kerepotan',\n",
       " ' http://celebrity.okezone.com/read/2017/05/07/33/1685180/ayu-ting-ting-pasrah-hadapi-terpaan-gosip-nikah-siri',\n",
       " ' http://celebrity.okezone.com/read/2017/05/08/33/1685713/rinni-wulandari-dan-jevin-julian-siap-gelar-pesta-kedua-di-medan',\n",
       " ' http://dunia.news.viva.co.id/news/read/913006-pemimpin-isis-afghanistan-tewas',\n",
       " ' http://economy.okezone.com/read/2017/05/07/320/1685505/sempat-bermasalah-mandiri-pastikan-internet-banking-nya-pulih',\n",
       " ' http://economy.okezone.com/read/2017/05/08/320/1685747/perdana-china-kembangkan-jet-penumpang-c919-berkapasitas-175-penumpang',\n",
       " ' http://ekonomi.metrotvnews.com/globals/yNLeeqqb-wall-street-diperkirakan-menguat-usai-macron-menang-di-prancis',\n",
       " ' http://global.liputan6.com/read/2943350/stephen-hawking-dalam-100-tahun-manusia-harus-lari-dari-bumi',\n",
       " ' http://global.liputan6.com/read/2944371/presiden-ashraf-ghani-pemimpin-isis-di-afghanistan-tewas',\n",
       " ' http://jabar.tribunnews.com/2017/05/08/lowongan-kerja-di-bank-indonesia-anda-berminat',\n",
       " ' http://jambi.tribunnews.com/2017/05/08/wajah-siswa-yang-tunggu-jemputan-ini-bikin-merinding-rupanya-ini-yang-terjadi',\n",
       " ' http://khazanah.republika.co.id/berita/dunia-islam/islam-digest/17/05/07/opkpey313-tak-ada-muhammad-di-xianjiang?google_editors_picks=true',\n",
       " ' http://khazanah.republika.co.id/berita/dunia-islam/khazanah/17/05/08/opm3r7320-penasaran-kalimat-pertama-rasulullah-saw-di-madinah-ini-dia?google_editors_picks=true',\n",
       " ' http://life.viva.co.id/news/read/913007-sah-jadi-suami-istri-rini-jevin-julian-gelar-pesta-dua-kali',\n",
       " ' http://lifestyle.bisnis.com/read/20170508/106/651641/berikut-5-tanda-tubuh-kekurangan-vitamin-dan-mineral',\n",
       " ' http://lifestyle.kompas.com/read/2017/05/08/080400220/kesalahan.pemakaian.kontrasepsi.yang.sebabkan.kehamilan',\n",
       " ' http://lifestyle.okezone.com/read/2017/05/05/406/1684565/keindahan-pulau-coron-di-filipina-mirip-raja-ampat',\n",
       " ' http://megapolitan.kompas.com/read/2017/05/07/21233591/tumpahkan.busa.mirip.salju.kontraktor.dapat.sp-1.dari.pt.mrt',\n",
       " ' http://megapolitan.kompas.com/read/2017/05/08/08215251/pendukung.ahok.bawa.10.000.balon.ke.balai.kota',\n",
       " ' http://megapolitan.kompas.com/read/2017/05/08/08535661/pendukung.ahok-djarot.sumbangkan.kursi.roda.melalui.pemprov.dki.',\n",
       " ' http://megapolitan.kompas.com/read/2017/05/08/10124861/pendukungnya.kirim.balon.dan.kursi.roda.ini.tanggapan.ahok',\n",
       " ' http://megapolitan.kompas.com/read/2017/05/08/10200731/dishub.dki.mulai.terapkan.sistem.gate.parking.di.rptra.kalijodo',\n",
       " ' http://metro.news.viva.co.id/news/read/913022-jelang-vonis-balon-merah-putih-berdatangan-ke-kantor-ahok',\n",
       " ' http://nasional.kompas.com/read/2017/05/08/08012371/penggulingan.presiden.jokowi.',\n",
       " ' http://nasional.kompas.com/read/2017/05/08/08253761/terbang.ke.maluku.utara.jokowi.resmikan.tiga.pelabuhan',\n",
       " ' http://nasional.kompas.com/read/2017/05/08/10531851/pengacara.belum.dipertemukan.dengan.miryam.sejak.penangkapan',\n",
       " ' http://nasional.republika.co.id/berita/nasional/hukum/17/05/08/opm6e8365-vonis-ahok-harus-penuhi-rasa-rasio-dan-fakta-keadilan?google_editors_picks=true',\n",
       " ' http://nasional.republika.co.id/berita/nasional/hukum/17/05/08/opm6vu354-sby-demokrat-tolak-hak-angket-kpk',\n",
       " ' http://nasional.republika.co.id/berita/nasional/jabodetabek-nasional/17/05/08/oplhjy328-banjir-di-jalanan-jakarta-barat-sudah-surut',\n",
       " ' http://news.liputan6.com/read/2944355/ribuan-balon-sambut-ahok-di-balai-kota-pagi-ini',\n",
       " ' http://news.liputan6.com/read/2944428/kpk-belum-terima-panggilan-sidang-praperadilan-miryam-s-haryani',\n",
       " ' http://news.liputan6.com/read/2944443/selain-balon-warga-kirim-puluhan-kursi-roda-untuk-ahok-djarot',\n",
       " ' http://news.metrotvnews.com/daerah/ZkePP6Zb-sambut-jokowi-masyarakat-patani-berlatih-menyanyikan-lagu-indonesia-raya',\n",
       " ' http://news.metrotvnews.com/metro/0k8jjy2N-pendukung-ahok-djarot-sumbang-alat-kesehatan',\n",
       " ' http://news.metrotvnews.com/metro/nbw11YDK-kantor-ahok-dipenuhi-ribuan-balon',\n",
       " ' http://news.okezone.com/read/2017/05/08/18/1685750/ini-lima-hal-yang-buat-emmanuel-macron-menang-pilpres-prancis',\n",
       " ' http://news.okezone.com/read/2017/05/08/338/1685739/pemprov-dki-diminta-konsisten-awasi-keamanan-dan-ketertiban-taman-kalijodo',\n",
       " ' http://otomotif.liputan6.com/read/2944039/ini-best-buy-car-iims-2017',\n",
       " ' http://otomotif.news.viva.co.id/news/read/913039-harga-nmax-250cc-sudah-tertera-di-situs-yamaha-indonesia',\n",
       " ' http://pekanbaru.tribunnews.com/2017/05/08/mengerikan-seekor-belut-dikeluarkan-dari-dalam-tubuh-seseorang',\n",
       " ' http://politik.rmol.co/read/2017/05/08/290569/SBY:-Ada-Yang-Benci-Saya-',\n",
       " ' http://poskotanews.com/2017/05/08/giliran-balon-merah-putih-yang-dikirim-ke-balaikota/',\n",
       " ' http://properti.kompas.com/read/2017/05/08/090207321/gaya.hidup.cerdas.bikin.kolam.renang.dari.kontainer.bekas',\n",
       " ' http://sains.kompas.com/read/2017/05/08/09070011/peta.genetika.ungkap.nenek.moyang.anjing.modern',\n",
       " ' http://senggang.republika.co.id/berita/senggang/film/17/05/07/opk2pl359-game-of-thrones-akan-buat-empat-perluasan-cerita?google_editors_picks=true',\n",
       " ' http://sports.okezone.com/read/2017/05/08/38/1685738/meski-juara-pedrosa-akui-lakoni-balapan-yang-sulit',\n",
       " ' http://techno.okezone.com/read/2017/05/07/207/1685311/2019-spacex-siapkan-jaringan-satelit-internet',\n",
       " ' http://tekno.liputan6.com/read/2943297/top-3-nokia-3310-sudah-mulai-dipasarkan-ke-seluruh-dunia',\n",
       " ' http://teknologi.metrotvnews.com/news-teknologi/4KZEE7Wk-asus-bikin-ponsel-anyar-ini-bocoran-sementara-spesifikasinya',\n",
       " ' http://teknologi.news.viva.co.id/news/read/912998-mengintip-jeroan-pesawat-buatan-china',\n",
       " ' http://www.bbc.com/indonesia/dunia-39841103',\n",
       " ' http://www.bintang.com/celeb/read/2942840/ruben-onsu-sosok-istimewa-bagi-julia-perez',\n",
       " ' http://www.cnnindonesia.com/nasional/20170508102040-20-213064/jelang-vonis-ahok-terima-dukungan-balon-merah-putih/',\n",
       " ' http://www.cnnindonesia.com/olahraga/20170508081546-156-213035/pengalaman-rossi-tak-berguna-di-jerez/',\n",
       " ' http://www.cnnindonesia.com/teknologi/20170505161140-199-212615/hawking-100-tahun-lagi-bumi-akan-kiamat/',\n",
       " ' http://www.cnnindonesia.com/teknologi/20170507203600-384-212965/suzuki-ignis-jadi-jawara-di-iims-2017/',\n",
       " ' http://www.goal.com/id-ID/news/1353/sepakbola-italia/2017/05/08/35309592/vincenzo-montella-as-roma-memang-lebih-superior',\n",
       " ' http://www.goal.com/id-ID/news/1387/nasional/2017/05/08/35311812/persib-bandung-isyaratkan-segera-depak-carlton-cole',\n",
       " ' http://www.goal.com/id-ID/news/28442/fakta-terusgerak-pekan-ini/2017/05/08/35313052/siapa-pemain-terusgerak-di-laga-arsenal-manchester-united',\n",
       " ' http://www.republika.co.id/berita/ekonomi/korporasi/17/05/07/opl4p5382-obligasi-tanpa-bunga-bank-mandiri-dinilai-jadi-alternatif-likuiditas',\n",
       " ' http://www.republika.co.id/berita/ekonomi/makro/17/05/08/opl617382-kenaikan-harga-bawang-putih-tertinggi?google_editors_picks=true',\n",
       " ' http://www.republika.co.id/berita/otomotif/mobil/17/05/07/opke7y359-toyota-siap-luncurkan-produk-baru-usai-iims-2017',\n",
       " ' http://www.republika.co.id/berita/otomotif/mobil/17/05/08/opm4n5359-suzuki-ignis-raih-best-buy-car',\n",
       " ' http://www.solopos.com/2017/05/08/nokia-3310-terbaru-mulai-dikirim-815074',\n",
       " ' http://www.solopos.com/2017/05/08/resmi-ini-harga-skutik-yamaha-xmax-250-cc-di-indonesia-815071',\n",
       " ' http://www.tabloidbintang.com/articles/berita/Peristiwa/67006-saat-pohonpohon-berpuisi-dan-berpantun-untuk-ahokdjarot',\n",
       " ' http://www.tabloidbintang.com/articles/berita/gosip/67007-mike-lewis-dan-pevita-peace-mesra-netizen-you-are-a-great-couple',\n",
       " ' http://www.tribunnews.com/otomotif/2017/05/08/dyandra-girang-konsep-the-essence-of-motor-show-iims-2017-diterima-masyarakat',\n",
       " ' http://www.tribunnews.com/seleb/2017/05/08/model-asal-amerika-ini-kembali-curhat-tentang-anaknya-yang-tak-pernah-dikunjungi-mike-lewis',\n",
       " ' http://www.wowkeren.com/berita/tampil/00161156.html',\n",
       " ' http://yangmuda.com/tekno/yamaha-xmax-resmi-dijual-rp55-juta',\n",
       " ' https://autotekno.sindonews.com/read/1203296/122/nokia-3310-akan-dipasarkan-secara-global-1494171507',\n",
       " ' https://ekbis.sindonews.com/read/1203299/178/mandiri-akan-terbitkan-obligasi-tanpa-kupon-1494172766',\n",
       " ' https://hot.detik.com/celeb/3494338/pevita-pearce-dan-mike-lewis-berenang-bareng',\n",
       " ' https://hot.detik.com/celeb/3494821/begini-penampakan-sheila-marcia-pasca-kecelakaan-mobil',\n",
       " ' https://hot.detik.com/celeb/d-3494891/rinni-wulandari-jevin-julian-resmi-nikah-sissy-priscillia-senewen',\n",
       " ' https://inet.detik.com/consumer/d-3494829/zenfone-4-tonjolkan-kamera-ganda',\n",
       " ' https://international.sindonews.com/read/1203311/40/lagi-korut-tahan-seorang-warga-as-1494190241',\n",
       " ' https://international.sindonews.com/read/1203342/40/pemimpin-isis-afghanistan-tewas-diserbu-50-pasukan-khusus-as-1494210988',\n",
       " ' https://kumparan.com/rini-friastuti/ahok-terima-kasih-sudah-kirim-balon',\n",
       " ' https://kumparan.com/utomo-priyambodo/8-pernyataan-stephen-hawking-yang-mengejutkan',\n",
       " ' https://m.tempo.co/read/news/2017/05/08/214873208/ahok-akan-divonis-ribuan-balon-penuhi-balai-kota',\n",
       " ' https://metro.sindonews.com/read/1203319/170/hindari-pungli-hari-ini-palang-pintu-parkir-di-taman-kalijodo-dioperasikan-1494199297',\n",
       " ' https://nasional.sindonews.com/read/1203355/12/sby-tegaskan-demokrat-belum-siapkan-capres-untuk-pilpres-2019-1494214041',\n",
       " ' https://news.detik.com/bbc-world/d-3494894/bagaimana-macron-hanya-butuh-1-tahun-untuk-jadi-presiden-prancis',\n",
       " ' https://news.detik.com/berita/3494602/polda-riau-bentuk-tim-usut-pemerasan-di-rutan-pekanbar',\n",
       " ' https://news.detik.com/berita/3494652/genangan-air-muncul-di-jakarta-barat-usai-hujan-deras',\n",
       " ' https://news.detik.com/berita/3494775/setelah-karangan-bunga-balai-kota-kini-dipenuhi-balon',\n",
       " ' https://news.detik.com/berita/3494805/kata-ahok-soal-balai-kota-yang-kini-dipenuhi-balon',\n",
       " ' https://news.detik.com/berita/d-3494662/mrt-jakarta-beri-sanksi-kontraktor-yang-sebabkan-ceceran-busa',\n",
       " ' https://news.detik.com/berita/d-3494757/282-perwira-polri-dirotasi-posisi-direskrimum-polda-jabar-diganti',\n",
       " ' https://news.detik.com/berita/d-3494791/polisi-koordinasi-dengan-kpk-untuk-periksa-novel-di-singapura',\n",
       " ' https://news.detik.com/berita/d-3494805/kata-ahok-soal-balai-kota-yang-kini-dipenuhi-balon',\n",
       " ' https://news.detik.com/berita/d-3494841/3500-personel-polri-tni-amankan-kunjungan-jokowi-ke-papua',\n",
       " ' https://news.detik.com/berita/d-3494895/ditahan-kpk-miryam-haryani-tak-hadir-di-sidang-praperadilan',\n",
       " ' https://news.detik.com/berita/d-3494926/jelang-vonis-ahok-pasrah-dan-berdoa',\n",
       " ' https://news.detik.com/internasional/d-3494677/tahan-seorang-lagi-kini-ada-4-warga-as-yang-dikurung-korea-utara',\n",
       " ' https://oto.detik.com/motor/3494512/kumpul-komunitas-moge-di-jakarta-akan-pecahkan-rekor-muri',\n",
       " ' https://sport.detik.com/sepakbola/liga-inggris/3494729/formasi-tiga-bek-arsenal-belum-sempurna',\n",
       " ' https://sport.detik.com/sepakbola/liga-italia/3494792/kerja-keras-dzeko-yang-berbuah-27-gol-untuk-roma',\n",
       " ' https://www.arah.com/article/30458/jelang-vonis-ahok-kebanjiran-ribuan-balon.html',\n",
       " ' https://www.bola.net/italia/spalletti-saya-bukan-penjaga-sejarah-totti-8b1478.html',\n",
       " ' https://www.bola.net/otomotif/marquez-podium-ganda-di-jerez-kejutan-bagi-honda-4efe31.html',\n",
       " ' https://www.droidlime.com/artikel/zenfone-4-max-zc554kl-sempat-terdaftar-di-website-resmi-asus.html',\n",
       " ' https://www.merdeka.com/jakarta/dukung-kartu-jakarta-lansia-relawan-sumbang-kursi-roda-buat-ahok.html',\n",
       " ' https://www.merdeka.com/jakarta/setelah-bunga-relawan-ahok-djarot-kirim-7500-balon-ke-balai-kota.html',\n",
       " ' https://www.oto.com/berita-mobil/iims-2017-toyota-raih-beragam-penghargaan-21164799',\n",
       " ' https://www.voaindonesia.com/a/spacex-akan-luncurkan-satelit-penyedia-jasa-sambungan-internet/3841122.html',\n",
       " 'http://news.okezone.com/read/2017/05/08/337/1685712/hari-ini-presiden-jokowi-resmikan-fasilitas-pelabuhan-di-maluku-utara'}"
      ]
     },
     "execution_count": 9,
     "metadata": {},
     "output_type": "execute_result"
    }
   ],
   "source": [
    "f = open('list_links_google_news_indonesia.txt','r')\n",
    "list_google_news = f.read().replace('[','').replace(']','').replace(\"u'\",\"\").replace(\"'\",\"\").split(',')\n",
    "set(list_google_news)"
   ]
  },
  {
   "cell_type": "code",
   "execution_count": 10,
   "metadata": {},
   "outputs": [
    {
     "name": "stdout",
     "output_type": "stream",
     "text": [
      "<type 'list'>\n"
     ]
    }
   ],
   "source": [
    "checkType = type(list_google_news)\n",
    "pprint(checkType)"
   ]
  },
  {
   "cell_type": "code",
   "execution_count": 11,
   "metadata": {},
   "outputs": [
    {
     "name": "stdout",
     "output_type": "stream",
     "text": [
      "115\n"
     ]
    }
   ],
   "source": [
    "total_link = len(list_google_news)\n",
    "pprint(total_link)"
   ]
  },
  {
   "cell_type": "code",
   "execution_count": 12,
   "metadata": {},
   "outputs": [
    {
     "name": "stdout",
     "output_type": "stream",
     "text": [
      "http://news.okezone.com/read/2017/05/08/337/1685712/hari-ini-presiden-jokowi-resmikan-fasilitas-pelabuhan-di-maluku-utara\n",
      " http://www.tabloidbintang.com/articles/berita/Peristiwa/67006-saat-pohonpohon-berpuisi-dan-berpantun-untuk-ahokdjarot\n",
      " http://teknologi.metrotvnews.com/news-teknologi/4KZEE7Wk-asus-bikin-ponsel-anyar-ini-bocoran-sementara-spesifikasinya\n",
      " https://news.detik.com/berita/d-3494757/282-perwira-polri-dirotasi-posisi-direskrimum-polda-jabar-diganti\n",
      " http://news.metrotvnews.com/daerah/ZkePP6Zb-sambut-jokowi-masyarakat-patani-berlatih-menyanyikan-lagu-indonesia-raya\n"
     ]
    }
   ],
   "source": [
    "for link in list_google_news[:5]:\n",
    "    print(link)"
   ]
  },
  {
   "cell_type": "code",
   "execution_count": 13,
   "metadata": {
    "collapsed": true
   },
   "outputs": [],
   "source": [
    "import os\n",
    "def generate_and_save_to_file(data):\n",
    "    if(len(data[1]) > 0):\n",
    "        fname = os.path.join('google_news',data[0]+'.txt')\n",
    "        f = open(fname,'w')\n",
    "        f.write(data[1])\n",
    "        f.close()\n",
    "    else:\n",
    "        fname = 'CONTENT NOT VALID'\n",
    "    return fname"
   ]
  },
  {
   "cell_type": "code",
   "execution_count": 14,
   "metadata": {},
   "outputs": [
    {
     "name": "stdout",
     "output_type": "stream",
     "text": [
      "1 / 115 : ERROR\n",
      "2 / 115 : ERROR\n",
      "3 / 115 : CONTENT NOT VALID\n",
      "4 / 115 : CONTENT NOT VALID\n",
      "5 / 115 : CONTENT NOT VALID\n",
      "6 / 115 : CONTENT NOT VALID\n",
      "7 / 115 : google_news/SpaceX akan Luncurkan Satelit Penyedia Jasa Sambungan Internet.txt\n",
      "8 / 115 : CONTENT NOT VALID\n",
      "9 / 115 : CONTENT NOT VALID\n",
      "10 / 115 : ERROR\n",
      "11 / 115 : google_news/Suzuki Ignis Jadi Jawara di IIMS 2017.txt\n",
      "12 / 115 : ERROR\n",
      "13 / 115 : ERROR\n",
      "14 / 115 : CONTENT NOT VALID\n",
      "15 / 115 : CONTENT NOT VALID\n",
      "16 / 115 : CONTENT NOT VALID\n",
      "17 / 115 : google_news/Setelah bunga, relawan Ahok-Djarot kirim 7.500 balon ke balai kota.txt\n",
      "18 / 115 : google_news/SBY Tegaskan Demokrat Belum Siapkan Capres untuk Pilpres 2019.txt\n",
      "19 / 115 : ERROR\n",
      "20 / 115 : ERROR\n",
      "21 / 115 : CONTENT NOT VALID\n",
      "22 / 115 : CONTENT NOT VALID\n",
      "23 / 115 : google_news/Lagi, Korut Tahan Seorang Warga AS.txt\n",
      "24 / 115 : ERROR\n",
      "25 / 115 : google_news/Kata Ahok soal Balai Kota yang Kini Dipenuhi Balon.txt\n",
      "26 / 115 : ERROR\n",
      "27 / 115 : CONTENT NOT VALID\n",
      "28 / 115 : CONTENT NOT VALID\n",
      "29 / 115 : CONTENT NOT VALID\n",
      "30 / 115 : CONTENT NOT VALID\n",
      "31 / 115 : ERROR\n",
      "32 / 115 : CONTENT NOT VALID\n",
      "33 / 115 : google_news/Ruben Onsu, Sosok Istimewa Bagi Julia Perez.txt\n",
      "34 / 115 : ERROR\n",
      "35 / 115 : CONTENT NOT VALID\n",
      "36 / 115 : ERROR\n",
      "37 / 115 : CONTENT NOT VALID\n",
      "38 / 115 : ERROR\n",
      "39 / 115 : CONTENT NOT VALID\n",
      "40 / 115 : CONTENT NOT VALID\n",
      "41 / 115 : CONTENT NOT VALID\n",
      "42 / 115 : CONTENT NOT VALID\n",
      "43 / 115 : ERROR\n",
      "44 / 115 : CONTENT NOT VALID\n",
      "45 / 115 : ERROR\n",
      "46 / 115 : CONTENT NOT VALID\n",
      "47 / 115 : CONTENT NOT VALID\n",
      "48 / 115 : ERROR\n",
      "49 / 115 : CONTENT NOT VALID\n",
      "50 / 115 : ERROR\n",
      "51 / 115 : CONTENT NOT VALID\n",
      "52 / 115 : CONTENT NOT VALID\n",
      "53 / 115 : CONTENT NOT VALID\n",
      "54 / 115 : CONTENT NOT VALID\n",
      "55 / 115 : ERROR\n",
      "56 / 115 : CONTENT NOT VALID\n",
      "57 / 115 : CONTENT NOT VALID\n",
      "58 / 115 : CONTENT NOT VALID\n",
      "59 / 115 : CONTENT NOT VALID\n",
      "60 / 115 : CONTENT NOT VALID\n",
      "61 / 115 : CONTENT NOT VALID\n",
      "62 / 115 : CONTENT NOT VALID\n",
      "63 / 115 : ERROR\n",
      "64 / 115 : ERROR\n",
      "65 / 115 : CONTENT NOT VALID\n",
      "66 / 115 : google_news/Harga 'NMax' 250cc Sudah Tertera di Situs Yamaha Indonesia.txt\n",
      "67 / 115 : ERROR\n",
      "68 / 115 : ERROR\n",
      "69 / 115 : ERROR\n",
      "70 / 115 : ERROR\n",
      "71 / 115 : CONTENT NOT VALID\n",
      "72 / 115 : ERROR\n",
      "73 / 115 : CONTENT NOT VALID\n",
      "74 / 115 : ERROR\n",
      "75 / 115 : CONTENT NOT VALID\n",
      "76 / 115 : CONTENT NOT VALID\n",
      "77 / 115 : google_news/Ayu Ting Ting Pasrah Hadapi Terpaan Gosip Nikah Siri.txt\n",
      "78 / 115 : CONTENT NOT VALID\n",
      "79 / 115 : ERROR\n",
      "80 / 115 : ERROR\n",
      "81 / 115 : ERROR\n",
      "82 / 115 : CONTENT NOT VALID\n",
      "83 / 115 : CONTENT NOT VALID\n",
      "84 / 115 : CONTENT NOT VALID\n",
      "85 / 115 : CONTENT NOT VALID\n",
      "86 / 115 : CONTENT NOT VALID\n",
      "87 / 115 : CONTENT NOT VALID\n",
      "88 / 115 : CONTENT NOT VALID\n",
      "89 / 115 : ERROR\n",
      "90 / 115 : CONTENT NOT VALID\n",
      "91 / 115 : CONTENT NOT VALID\n",
      "92 / 115 : CONTENT NOT VALID\n",
      "93 / 115 : CONTENT NOT VALID\n",
      "94 / 115 : ERROR\n",
      "95 / 115 : google_news/Polda Riau Bentuk Tim Usut Pemerasan di Rutan Pekanbaru.txt\n",
      "96 / 115 : ERROR\n",
      "97 / 115 : google_news/Model Asal Amerika Ini Kembali Curhat Tentang Anaknya yang Tak Pernah Dikunjungi Mike Lewis.txt\n",
      "98 / 115 : ERROR\n",
      "99 / 115 : CONTENT NOT VALID\n",
      "100 / 115 : ERROR\n",
      "101 / 115 : CONTENT NOT VALID\n",
      "102 / 115 : CONTENT NOT VALID\n",
      "103 / 115 : ERROR\n",
      "104 / 115 : google_news/Resmi! Ini harga Skutik Yamaha Xmax 250 cc di Indonesia.txt\n",
      "105 / 115 : ERROR\n",
      "106 / 115 : ERROR\n",
      "107 / 115 : CONTENT NOT VALID\n",
      "108 / 115 : ERROR\n",
      "109 / 115 : ERROR\n",
      "110 / 115 : CONTENT NOT VALID\n",
      "111 / 115 : google_news/Aneh, Dokter Temukan Binatang Belut Hidup di Perut Pasien, Penyebabnya Sulit Dinalar Akal.txt\n",
      "112 / 115 : ERROR\n",
      "113 / 115 : CONTENT NOT VALID\n",
      "114 / 115 : google_news/Man United Takluk, Mourinho Alihkan Perhatian ke Liga Europa - Kompas.com.txt\n",
      "115 / 115 : google_news/Yamaha XMAX Resmi Dijual Rp55 Juta | Yangmuda.txt\n"
     ]
    }
   ],
   "source": [
    "index_link = 1\n",
    "for link in list_google_news:\n",
    "    try:\n",
    "        url = '''%s''' % link\n",
    "        sn = scrap_news(url)\n",
    "        result = sn.scrap_publisher_news()\n",
    "        fname = generate_and_save_to_file(result)\n",
    "        print('%d / %d : %s' % (index_link,total_link,fname))\n",
    "    except:\n",
    "        print('%d / %d : %s' % (index_link,total_link,'ERROR'))\n",
    "        pass\n",
    "    index_link = index_link + 1"
   ]
  },
  {
   "cell_type": "code",
   "execution_count": null,
   "metadata": {},
   "outputs": [],
   "source": [
    "os.listdir('google_news')"
   ]
  },
  {
   "cell_type": "code",
   "execution_count": null,
   "metadata": {
    "collapsed": true
   },
   "outputs": [],
   "source": []
  }
 ],
 "metadata": {
  "kernelspec": {
   "display_name": "Python 2",
   "language": "python",
   "name": "python2"
  },
  "language_info": {
   "codemirror_mode": {
    "name": "ipython",
    "version": 2
   },
   "file_extension": ".py",
   "mimetype": "text/x-python",
   "name": "python",
   "nbconvert_exporter": "python",
   "pygments_lexer": "ipython2",
   "version": "2.7.11"
  }
 },
 "nbformat": 4,
 "nbformat_minor": 2
}
